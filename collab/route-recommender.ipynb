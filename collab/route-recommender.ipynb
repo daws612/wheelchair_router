{
 "cells": [
  {
   "cell_type": "code",
   "execution_count": 11,
   "metadata": {},
   "outputs": [
    {
     "output_type": "execute_result",
     "data": {
      "text/plain": "[PosixPath('pg/route_ratings.csv'),\n PosixPath('pg/routes.csv'),\n PosixPath('pg/users.csv')]"
     },
     "metadata": {},
     "execution_count": 11
    }
   ],
   "source": [
    "from pathlib import Path\n",
    "import pandas as pd\n",
    "import numpy as np\n",
    "from sklearn.metrics.pairwise import cosine_similarity\n",
    "from sklearn.metrics import pairwise_distances\n",
    "\n",
    "PATH = Path(\"pg/\")\n",
    "list(PATH.iterdir())"
   ]
  },
  {
   "cell_type": "code",
   "execution_count": 12,
   "metadata": {},
   "outputs": [
    {
     "output_type": "execute_result",
     "data": {
      "text/plain": "   id  route_id  user_id  rating  comment\n0   1        65        4       3      NaN\n1   2        63        4       2      NaN\n2   3        53        4       5      NaN\n3   4        65       13       1      NaN\n4   5       148       13       3      NaN",
      "text/html": "<div>\n<style scoped>\n    .dataframe tbody tr th:only-of-type {\n        vertical-align: middle;\n    }\n\n    .dataframe tbody tr th {\n        vertical-align: top;\n    }\n\n    .dataframe thead th {\n        text-align: right;\n    }\n</style>\n<table border=\"1\" class=\"dataframe\">\n  <thead>\n    <tr style=\"text-align: right;\">\n      <th></th>\n      <th>id</th>\n      <th>route_id</th>\n      <th>user_id</th>\n      <th>rating</th>\n      <th>comment</th>\n    </tr>\n  </thead>\n  <tbody>\n    <tr>\n      <th>0</th>\n      <td>1</td>\n      <td>65</td>\n      <td>4</td>\n      <td>3</td>\n      <td>NaN</td>\n    </tr>\n    <tr>\n      <th>1</th>\n      <td>2</td>\n      <td>63</td>\n      <td>4</td>\n      <td>2</td>\n      <td>NaN</td>\n    </tr>\n    <tr>\n      <th>2</th>\n      <td>3</td>\n      <td>53</td>\n      <td>4</td>\n      <td>5</td>\n      <td>NaN</td>\n    </tr>\n    <tr>\n      <th>3</th>\n      <td>4</td>\n      <td>65</td>\n      <td>13</td>\n      <td>1</td>\n      <td>NaN</td>\n    </tr>\n    <tr>\n      <th>4</th>\n      <td>5</td>\n      <td>148</td>\n      <td>13</td>\n      <td>3</td>\n      <td>NaN</td>\n    </tr>\n  </tbody>\n</table>\n</div>"
     },
     "metadata": {},
     "execution_count": 12
    }
   ],
   "source": [
    "ratings = pd.read_csv(PATH/\"route_ratings.csv\")\n",
    "users = pd.read_csv(PATH/\"users.csv\")\n",
    "routes = pd.read_csv(PATH/\"routes.csv\")\n",
    "ratings.head()"
   ]
  },
  {
   "cell_type": "code",
   "execution_count": 13,
   "metadata": {},
   "outputs": [
    {
     "output_type": "execute_result",
     "data": {
      "text/plain": "   id  route_id  user_id  rating_x  comment  rating_y\n0   1        65        4         3      NaN  3.333333\n1   2        63        4         2      NaN  3.333333\n2   3        53        4         5      NaN  3.333333\n3   4        65       13         1      NaN  3.555556\n4   5       148       13         3      NaN  3.555556",
      "text/html": "<div>\n<style scoped>\n    .dataframe tbody tr th:only-of-type {\n        vertical-align: middle;\n    }\n\n    .dataframe tbody tr th {\n        vertical-align: top;\n    }\n\n    .dataframe thead th {\n        text-align: right;\n    }\n</style>\n<table border=\"1\" class=\"dataframe\">\n  <thead>\n    <tr style=\"text-align: right;\">\n      <th></th>\n      <th>id</th>\n      <th>route_id</th>\n      <th>user_id</th>\n      <th>rating_x</th>\n      <th>comment</th>\n      <th>rating_y</th>\n    </tr>\n  </thead>\n  <tbody>\n    <tr>\n      <th>0</th>\n      <td>1</td>\n      <td>65</td>\n      <td>4</td>\n      <td>3</td>\n      <td>NaN</td>\n      <td>3.333333</td>\n    </tr>\n    <tr>\n      <th>1</th>\n      <td>2</td>\n      <td>63</td>\n      <td>4</td>\n      <td>2</td>\n      <td>NaN</td>\n      <td>3.333333</td>\n    </tr>\n    <tr>\n      <th>2</th>\n      <td>3</td>\n      <td>53</td>\n      <td>4</td>\n      <td>5</td>\n      <td>NaN</td>\n      <td>3.333333</td>\n    </tr>\n    <tr>\n      <th>3</th>\n      <td>4</td>\n      <td>65</td>\n      <td>13</td>\n      <td>1</td>\n      <td>NaN</td>\n      <td>3.555556</td>\n    </tr>\n    <tr>\n      <th>4</th>\n      <td>5</td>\n      <td>148</td>\n      <td>13</td>\n      <td>3</td>\n      <td>NaN</td>\n      <td>3.555556</td>\n    </tr>\n  </tbody>\n</table>\n</div>"
     },
     "metadata": {},
     "execution_count": 13
    }
   ],
   "source": [
    "Mean = ratings.groupby(by=\"user_id\",as_index=False)['rating'].mean()\n",
    "Rating_avg = pd.merge(ratings,Mean,on='user_id')\n",
    "Rating_avg.head()"
   ]
  },
  {
   "cell_type": "code",
   "execution_count": 14,
   "metadata": {},
   "outputs": [
    {
     "output_type": "execute_result",
     "data": {
      "text/plain": "   id  route_id  user_id  rating_x  comment  rating_y  adg_rating\n0   1        65        4         3      NaN  3.333333   -0.333333\n1   2        63        4         2      NaN  3.333333   -1.333333\n2   3        53        4         5      NaN  3.333333    1.666667\n3   4        65       13         1      NaN  3.555556   -2.555556\n4   5       148       13         3      NaN  3.555556   -0.555556",
      "text/html": "<div>\n<style scoped>\n    .dataframe tbody tr th:only-of-type {\n        vertical-align: middle;\n    }\n\n    .dataframe tbody tr th {\n        vertical-align: top;\n    }\n\n    .dataframe thead th {\n        text-align: right;\n    }\n</style>\n<table border=\"1\" class=\"dataframe\">\n  <thead>\n    <tr style=\"text-align: right;\">\n      <th></th>\n      <th>id</th>\n      <th>route_id</th>\n      <th>user_id</th>\n      <th>rating_x</th>\n      <th>comment</th>\n      <th>rating_y</th>\n      <th>adg_rating</th>\n    </tr>\n  </thead>\n  <tbody>\n    <tr>\n      <th>0</th>\n      <td>1</td>\n      <td>65</td>\n      <td>4</td>\n      <td>3</td>\n      <td>NaN</td>\n      <td>3.333333</td>\n      <td>-0.333333</td>\n    </tr>\n    <tr>\n      <th>1</th>\n      <td>2</td>\n      <td>63</td>\n      <td>4</td>\n      <td>2</td>\n      <td>NaN</td>\n      <td>3.333333</td>\n      <td>-1.333333</td>\n    </tr>\n    <tr>\n      <th>2</th>\n      <td>3</td>\n      <td>53</td>\n      <td>4</td>\n      <td>5</td>\n      <td>NaN</td>\n      <td>3.333333</td>\n      <td>1.666667</td>\n    </tr>\n    <tr>\n      <th>3</th>\n      <td>4</td>\n      <td>65</td>\n      <td>13</td>\n      <td>1</td>\n      <td>NaN</td>\n      <td>3.555556</td>\n      <td>-2.555556</td>\n    </tr>\n    <tr>\n      <th>4</th>\n      <td>5</td>\n      <td>148</td>\n      <td>13</td>\n      <td>3</td>\n      <td>NaN</td>\n      <td>3.555556</td>\n      <td>-0.555556</td>\n    </tr>\n  </tbody>\n</table>\n</div>"
     },
     "metadata": {},
     "execution_count": 14
    }
   ],
   "source": [
    "Rating_avg['adg_rating']=Rating_avg['rating_x']-Rating_avg['rating_y']\n",
    "Rating_avg.head()"
   ]
  },
  {
   "cell_type": "code",
   "execution_count": 15,
   "metadata": {},
   "outputs": [
    {
     "output_type": "execute_result",
     "data": {
      "text/plain": "route_id  53   63   64   65   72   73   148  150  152  153   165  166  \\\nuser_id                                                                 \n4         5.0  2.0  NaN  3.0  NaN  NaN  NaN  NaN  NaN  NaN   NaN  NaN   \n13        4.0  NaN  NaN  1.0  NaN  NaN  3.0  NaN  5.0  5.0   NaN  NaN   \n38        NaN  NaN  2.0  NaN  NaN  NaN  NaN  NaN  NaN  NaN  3.00  4.0   \n56        NaN  NaN  NaN  NaN  NaN  NaN  NaN  NaN  NaN  NaN  3.00  NaN   \n57        NaN  NaN  NaN  1.0  1.0  1.0  NaN  1.0  5.0  5.0  2.75  3.5   \n\nroute_id       171  173  174  175  176  178  212  213  \nuser_id                                                \n4              NaN  NaN  NaN  NaN  NaN  NaN  NaN  NaN  \n13             NaN  NaN  NaN  NaN  NaN  NaN  NaN  NaN  \n38             NaN  NaN  NaN  NaN  NaN  NaN  NaN  NaN  \n56        1.666667  5.0  5.0  2.0  4.0  3.0  NaN  NaN  \n57             NaN  NaN  NaN  NaN  NaN  NaN  1.0  1.0  ",
      "text/html": "<div>\n<style scoped>\n    .dataframe tbody tr th:only-of-type {\n        vertical-align: middle;\n    }\n\n    .dataframe tbody tr th {\n        vertical-align: top;\n    }\n\n    .dataframe thead th {\n        text-align: right;\n    }\n</style>\n<table border=\"1\" class=\"dataframe\">\n  <thead>\n    <tr style=\"text-align: right;\">\n      <th>route_id</th>\n      <th>53</th>\n      <th>63</th>\n      <th>64</th>\n      <th>65</th>\n      <th>72</th>\n      <th>73</th>\n      <th>148</th>\n      <th>150</th>\n      <th>152</th>\n      <th>153</th>\n      <th>165</th>\n      <th>166</th>\n      <th>171</th>\n      <th>173</th>\n      <th>174</th>\n      <th>175</th>\n      <th>176</th>\n      <th>178</th>\n      <th>212</th>\n      <th>213</th>\n    </tr>\n    <tr>\n      <th>user_id</th>\n      <th></th>\n      <th></th>\n      <th></th>\n      <th></th>\n      <th></th>\n      <th></th>\n      <th></th>\n      <th></th>\n      <th></th>\n      <th></th>\n      <th></th>\n      <th></th>\n      <th></th>\n      <th></th>\n      <th></th>\n      <th></th>\n      <th></th>\n      <th></th>\n      <th></th>\n      <th></th>\n    </tr>\n  </thead>\n  <tbody>\n    <tr>\n      <th>4</th>\n      <td>5.0</td>\n      <td>2.0</td>\n      <td>NaN</td>\n      <td>3.0</td>\n      <td>NaN</td>\n      <td>NaN</td>\n      <td>NaN</td>\n      <td>NaN</td>\n      <td>NaN</td>\n      <td>NaN</td>\n      <td>NaN</td>\n      <td>NaN</td>\n      <td>NaN</td>\n      <td>NaN</td>\n      <td>NaN</td>\n      <td>NaN</td>\n      <td>NaN</td>\n      <td>NaN</td>\n      <td>NaN</td>\n      <td>NaN</td>\n    </tr>\n    <tr>\n      <th>13</th>\n      <td>4.0</td>\n      <td>NaN</td>\n      <td>NaN</td>\n      <td>1.0</td>\n      <td>NaN</td>\n      <td>NaN</td>\n      <td>3.0</td>\n      <td>NaN</td>\n      <td>5.0</td>\n      <td>5.0</td>\n      <td>NaN</td>\n      <td>NaN</td>\n      <td>NaN</td>\n      <td>NaN</td>\n      <td>NaN</td>\n      <td>NaN</td>\n      <td>NaN</td>\n      <td>NaN</td>\n      <td>NaN</td>\n      <td>NaN</td>\n    </tr>\n    <tr>\n      <th>38</th>\n      <td>NaN</td>\n      <td>NaN</td>\n      <td>2.0</td>\n      <td>NaN</td>\n      <td>NaN</td>\n      <td>NaN</td>\n      <td>NaN</td>\n      <td>NaN</td>\n      <td>NaN</td>\n      <td>NaN</td>\n      <td>3.00</td>\n      <td>4.0</td>\n      <td>NaN</td>\n      <td>NaN</td>\n      <td>NaN</td>\n      <td>NaN</td>\n      <td>NaN</td>\n      <td>NaN</td>\n      <td>NaN</td>\n      <td>NaN</td>\n    </tr>\n    <tr>\n      <th>56</th>\n      <td>NaN</td>\n      <td>NaN</td>\n      <td>NaN</td>\n      <td>NaN</td>\n      <td>NaN</td>\n      <td>NaN</td>\n      <td>NaN</td>\n      <td>NaN</td>\n      <td>NaN</td>\n      <td>NaN</td>\n      <td>3.00</td>\n      <td>NaN</td>\n      <td>1.666667</td>\n      <td>5.0</td>\n      <td>5.0</td>\n      <td>2.0</td>\n      <td>4.0</td>\n      <td>3.0</td>\n      <td>NaN</td>\n      <td>NaN</td>\n    </tr>\n    <tr>\n      <th>57</th>\n      <td>NaN</td>\n      <td>NaN</td>\n      <td>NaN</td>\n      <td>1.0</td>\n      <td>1.0</td>\n      <td>1.0</td>\n      <td>NaN</td>\n      <td>1.0</td>\n      <td>5.0</td>\n      <td>5.0</td>\n      <td>2.75</td>\n      <td>3.5</td>\n      <td>NaN</td>\n      <td>NaN</td>\n      <td>NaN</td>\n      <td>NaN</td>\n      <td>NaN</td>\n      <td>NaN</td>\n      <td>1.0</td>\n      <td>1.0</td>\n    </tr>\n  </tbody>\n</table>\n</div>"
     },
     "metadata": {},
     "execution_count": 15
    }
   ],
   "source": [
    "check = pd.pivot_table(Rating_avg,values='rating_x',index='user_id',columns='route_id')\n",
    "check.head()"
   ]
  },
  {
   "cell_type": "code",
   "execution_count": 16,
   "metadata": {},
   "outputs": [
    {
     "output_type": "execute_result",
     "data": {
      "text/plain": "route_id       53        63   64        65      72      73        148     150  \\\nuser_id                                                                         \n4         1.666667 -1.333333  NaN -0.333333     NaN     NaN       NaN     NaN   \n13        0.444444       NaN  NaN -2.555556     NaN     NaN -0.555556     NaN   \n38             NaN       NaN -1.0       NaN     NaN     NaN       NaN     NaN   \n56             NaN       NaN  NaN       NaN     NaN     NaN       NaN     NaN   \n57             NaN       NaN  NaN -1.562500 -1.5625 -1.5625       NaN -1.5625   \n\nroute_id       152       153     165     166       171  173  174  175  176  \\\nuser_id                                                                      \n4              NaN       NaN     NaN     NaN       NaN  NaN  NaN  NaN  NaN   \n13        1.444444  1.444444     NaN     NaN       NaN  NaN  NaN  NaN  NaN   \n38             NaN       NaN  0.0000  1.0000       NaN  NaN  NaN  NaN  NaN   \n56             NaN       NaN  0.0000     NaN -1.333333  2.0  2.0 -1.0  1.0   \n57        2.437500  2.437500  0.1875  0.9375       NaN  NaN  NaN  NaN  NaN   \n\nroute_id  178     212     213  \nuser_id                        \n4         NaN     NaN     NaN  \n13        NaN     NaN     NaN  \n38        NaN     NaN     NaN  \n56        0.0     NaN     NaN  \n57        NaN -1.5625 -1.5625  ",
      "text/html": "<div>\n<style scoped>\n    .dataframe tbody tr th:only-of-type {\n        vertical-align: middle;\n    }\n\n    .dataframe tbody tr th {\n        vertical-align: top;\n    }\n\n    .dataframe thead th {\n        text-align: right;\n    }\n</style>\n<table border=\"1\" class=\"dataframe\">\n  <thead>\n    <tr style=\"text-align: right;\">\n      <th>route_id</th>\n      <th>53</th>\n      <th>63</th>\n      <th>64</th>\n      <th>65</th>\n      <th>72</th>\n      <th>73</th>\n      <th>148</th>\n      <th>150</th>\n      <th>152</th>\n      <th>153</th>\n      <th>165</th>\n      <th>166</th>\n      <th>171</th>\n      <th>173</th>\n      <th>174</th>\n      <th>175</th>\n      <th>176</th>\n      <th>178</th>\n      <th>212</th>\n      <th>213</th>\n    </tr>\n    <tr>\n      <th>user_id</th>\n      <th></th>\n      <th></th>\n      <th></th>\n      <th></th>\n      <th></th>\n      <th></th>\n      <th></th>\n      <th></th>\n      <th></th>\n      <th></th>\n      <th></th>\n      <th></th>\n      <th></th>\n      <th></th>\n      <th></th>\n      <th></th>\n      <th></th>\n      <th></th>\n      <th></th>\n      <th></th>\n    </tr>\n  </thead>\n  <tbody>\n    <tr>\n      <th>4</th>\n      <td>1.666667</td>\n      <td>-1.333333</td>\n      <td>NaN</td>\n      <td>-0.333333</td>\n      <td>NaN</td>\n      <td>NaN</td>\n      <td>NaN</td>\n      <td>NaN</td>\n      <td>NaN</td>\n      <td>NaN</td>\n      <td>NaN</td>\n      <td>NaN</td>\n      <td>NaN</td>\n      <td>NaN</td>\n      <td>NaN</td>\n      <td>NaN</td>\n      <td>NaN</td>\n      <td>NaN</td>\n      <td>NaN</td>\n      <td>NaN</td>\n    </tr>\n    <tr>\n      <th>13</th>\n      <td>0.444444</td>\n      <td>NaN</td>\n      <td>NaN</td>\n      <td>-2.555556</td>\n      <td>NaN</td>\n      <td>NaN</td>\n      <td>-0.555556</td>\n      <td>NaN</td>\n      <td>1.444444</td>\n      <td>1.444444</td>\n      <td>NaN</td>\n      <td>NaN</td>\n      <td>NaN</td>\n      <td>NaN</td>\n      <td>NaN</td>\n      <td>NaN</td>\n      <td>NaN</td>\n      <td>NaN</td>\n      <td>NaN</td>\n      <td>NaN</td>\n    </tr>\n    <tr>\n      <th>38</th>\n      <td>NaN</td>\n      <td>NaN</td>\n      <td>-1.0</td>\n      <td>NaN</td>\n      <td>NaN</td>\n      <td>NaN</td>\n      <td>NaN</td>\n      <td>NaN</td>\n      <td>NaN</td>\n      <td>NaN</td>\n      <td>0.0000</td>\n      <td>1.0000</td>\n      <td>NaN</td>\n      <td>NaN</td>\n      <td>NaN</td>\n      <td>NaN</td>\n      <td>NaN</td>\n      <td>NaN</td>\n      <td>NaN</td>\n      <td>NaN</td>\n    </tr>\n    <tr>\n      <th>56</th>\n      <td>NaN</td>\n      <td>NaN</td>\n      <td>NaN</td>\n      <td>NaN</td>\n      <td>NaN</td>\n      <td>NaN</td>\n      <td>NaN</td>\n      <td>NaN</td>\n      <td>NaN</td>\n      <td>NaN</td>\n      <td>0.0000</td>\n      <td>NaN</td>\n      <td>-1.333333</td>\n      <td>2.0</td>\n      <td>2.0</td>\n      <td>-1.0</td>\n      <td>1.0</td>\n      <td>0.0</td>\n      <td>NaN</td>\n      <td>NaN</td>\n    </tr>\n    <tr>\n      <th>57</th>\n      <td>NaN</td>\n      <td>NaN</td>\n      <td>NaN</td>\n      <td>-1.562500</td>\n      <td>-1.5625</td>\n      <td>-1.5625</td>\n      <td>NaN</td>\n      <td>-1.5625</td>\n      <td>2.437500</td>\n      <td>2.437500</td>\n      <td>0.1875</td>\n      <td>0.9375</td>\n      <td>NaN</td>\n      <td>NaN</td>\n      <td>NaN</td>\n      <td>NaN</td>\n      <td>NaN</td>\n      <td>NaN</td>\n      <td>-1.5625</td>\n      <td>-1.5625</td>\n    </tr>\n  </tbody>\n</table>\n</div>"
     },
     "metadata": {},
     "execution_count": 16
    }
   ],
   "source": [
    "final = pd.pivot_table(Rating_avg,values='adg_rating',index='user_id',columns='route_id')\n",
    "final.head()"
   ]
  },
  {
   "cell_type": "code",
   "execution_count": 17,
   "metadata": {},
   "outputs": [
    {
     "output_type": "execute_result",
     "data": {
      "text/plain": "route_id       53        63   64        65      72      73        148     150  \\\nuser_id                                                                         \n4         1.666667 -1.333333 -1.0 -0.333333 -1.5625 -1.5625 -0.555556 -1.5625   \n13        0.444444 -1.333333 -1.0 -2.555556 -1.5625 -1.5625 -0.555556 -1.5625   \n38        1.055556 -1.333333 -1.0 -1.483796 -1.5625 -1.5625 -0.555556 -1.5625   \n56        1.055556 -1.333333 -1.0 -1.483796 -1.5625 -1.5625 -0.555556 -1.5625   \n57        1.055556 -1.333333 -1.0 -1.562500 -1.5625 -1.5625 -0.555556 -1.5625   \n\nroute_id       152       153     165      166       171  173  174  175  176  \\\nuser_id                                                                       \n4         1.940972  1.940972  0.0625  0.96875 -1.333333  2.0  2.0 -1.0  1.0   \n13        1.444444  1.444444  0.0625  0.96875 -1.333333  2.0  2.0 -1.0  1.0   \n38        1.940972  1.940972  0.0000  1.00000 -1.333333  2.0  2.0 -1.0  1.0   \n56        1.940972  1.940972  0.0000  0.96875 -1.333333  2.0  2.0 -1.0  1.0   \n57        2.437500  2.437500  0.1875  0.93750 -1.333333  2.0  2.0 -1.0  1.0   \n\nroute_id  178     212     213  \nuser_id                        \n4         0.0 -1.5625 -1.5625  \n13        0.0 -1.5625 -1.5625  \n38        0.0 -1.5625 -1.5625  \n56        0.0 -1.5625 -1.5625  \n57        0.0 -1.5625 -1.5625  ",
      "text/html": "<div>\n<style scoped>\n    .dataframe tbody tr th:only-of-type {\n        vertical-align: middle;\n    }\n\n    .dataframe tbody tr th {\n        vertical-align: top;\n    }\n\n    .dataframe thead th {\n        text-align: right;\n    }\n</style>\n<table border=\"1\" class=\"dataframe\">\n  <thead>\n    <tr style=\"text-align: right;\">\n      <th>route_id</th>\n      <th>53</th>\n      <th>63</th>\n      <th>64</th>\n      <th>65</th>\n      <th>72</th>\n      <th>73</th>\n      <th>148</th>\n      <th>150</th>\n      <th>152</th>\n      <th>153</th>\n      <th>165</th>\n      <th>166</th>\n      <th>171</th>\n      <th>173</th>\n      <th>174</th>\n      <th>175</th>\n      <th>176</th>\n      <th>178</th>\n      <th>212</th>\n      <th>213</th>\n    </tr>\n    <tr>\n      <th>user_id</th>\n      <th></th>\n      <th></th>\n      <th></th>\n      <th></th>\n      <th></th>\n      <th></th>\n      <th></th>\n      <th></th>\n      <th></th>\n      <th></th>\n      <th></th>\n      <th></th>\n      <th></th>\n      <th></th>\n      <th></th>\n      <th></th>\n      <th></th>\n      <th></th>\n      <th></th>\n      <th></th>\n    </tr>\n  </thead>\n  <tbody>\n    <tr>\n      <th>4</th>\n      <td>1.666667</td>\n      <td>-1.333333</td>\n      <td>-1.0</td>\n      <td>-0.333333</td>\n      <td>-1.5625</td>\n      <td>-1.5625</td>\n      <td>-0.555556</td>\n      <td>-1.5625</td>\n      <td>1.940972</td>\n      <td>1.940972</td>\n      <td>0.0625</td>\n      <td>0.96875</td>\n      <td>-1.333333</td>\n      <td>2.0</td>\n      <td>2.0</td>\n      <td>-1.0</td>\n      <td>1.0</td>\n      <td>0.0</td>\n      <td>-1.5625</td>\n      <td>-1.5625</td>\n    </tr>\n    <tr>\n      <th>13</th>\n      <td>0.444444</td>\n      <td>-1.333333</td>\n      <td>-1.0</td>\n      <td>-2.555556</td>\n      <td>-1.5625</td>\n      <td>-1.5625</td>\n      <td>-0.555556</td>\n      <td>-1.5625</td>\n      <td>1.444444</td>\n      <td>1.444444</td>\n      <td>0.0625</td>\n      <td>0.96875</td>\n      <td>-1.333333</td>\n      <td>2.0</td>\n      <td>2.0</td>\n      <td>-1.0</td>\n      <td>1.0</td>\n      <td>0.0</td>\n      <td>-1.5625</td>\n      <td>-1.5625</td>\n    </tr>\n    <tr>\n      <th>38</th>\n      <td>1.055556</td>\n      <td>-1.333333</td>\n      <td>-1.0</td>\n      <td>-1.483796</td>\n      <td>-1.5625</td>\n      <td>-1.5625</td>\n      <td>-0.555556</td>\n      <td>-1.5625</td>\n      <td>1.940972</td>\n      <td>1.940972</td>\n      <td>0.0000</td>\n      <td>1.00000</td>\n      <td>-1.333333</td>\n      <td>2.0</td>\n      <td>2.0</td>\n      <td>-1.0</td>\n      <td>1.0</td>\n      <td>0.0</td>\n      <td>-1.5625</td>\n      <td>-1.5625</td>\n    </tr>\n    <tr>\n      <th>56</th>\n      <td>1.055556</td>\n      <td>-1.333333</td>\n      <td>-1.0</td>\n      <td>-1.483796</td>\n      <td>-1.5625</td>\n      <td>-1.5625</td>\n      <td>-0.555556</td>\n      <td>-1.5625</td>\n      <td>1.940972</td>\n      <td>1.940972</td>\n      <td>0.0000</td>\n      <td>0.96875</td>\n      <td>-1.333333</td>\n      <td>2.0</td>\n      <td>2.0</td>\n      <td>-1.0</td>\n      <td>1.0</td>\n      <td>0.0</td>\n      <td>-1.5625</td>\n      <td>-1.5625</td>\n    </tr>\n    <tr>\n      <th>57</th>\n      <td>1.055556</td>\n      <td>-1.333333</td>\n      <td>-1.0</td>\n      <td>-1.562500</td>\n      <td>-1.5625</td>\n      <td>-1.5625</td>\n      <td>-0.555556</td>\n      <td>-1.5625</td>\n      <td>2.437500</td>\n      <td>2.437500</td>\n      <td>0.1875</td>\n      <td>0.93750</td>\n      <td>-1.333333</td>\n      <td>2.0</td>\n      <td>2.0</td>\n      <td>-1.0</td>\n      <td>1.0</td>\n      <td>0.0</td>\n      <td>-1.5625</td>\n      <td>-1.5625</td>\n    </tr>\n  </tbody>\n</table>\n</div>"
     },
     "metadata": {},
     "execution_count": 17
    }
   ],
   "source": [
    "# Replacing NaN by Route Average\n",
    "final_route = final.fillna(final.mean(axis=0))\n",
    "final_route.head()"
   ]
  },
  {
   "cell_type": "code",
   "execution_count": 18,
   "metadata": {},
   "outputs": [
    {
     "output_type": "execute_result",
     "data": {
      "text/plain": "route_id       53        63            64        65            72   \\\nuser_id                                                              \n4         1.666667 -1.333333 -1.480297e-16 -0.333333 -1.480297e-16   \n13        0.444444  0.044444  4.444444e-02 -2.555556  4.444444e-02   \n38        0.000000  0.000000 -1.000000e+00  0.000000  0.000000e+00   \n56        0.380952  0.380952  3.809524e-01  0.380952  3.809524e-01   \n57       -0.337500 -0.337500 -3.375000e-01 -1.562500 -1.562500e+00   \n\nroute_id           73            148           150           152  \\\nuser_id                                                            \n4        -1.480297e-16 -1.480297e-16 -1.480297e-16 -1.480297e-16   \n13        4.444444e-02 -5.555556e-01  4.444444e-02  1.444444e+00   \n38        0.000000e+00  0.000000e+00  0.000000e+00  0.000000e+00   \n56        3.809524e-01  3.809524e-01  3.809524e-01  3.809524e-01   \n57       -1.562500e+00 -3.375000e-01 -1.562500e+00  2.437500e+00   \n\nroute_id           153           165           166           171  \\\nuser_id                                                            \n4        -1.480297e-16 -1.480297e-16 -1.480297e-16 -1.480297e-16   \n13        1.444444e+00  4.444444e-02  4.444444e-02  4.444444e-02   \n38        0.000000e+00  0.000000e+00  1.000000e+00  0.000000e+00   \n56        3.809524e-01  0.000000e+00  3.809524e-01 -1.333333e+00   \n57        2.437500e+00  1.875000e-01  9.375000e-01 -3.375000e-01   \n\nroute_id           173           174           175           176  \\\nuser_id                                                            \n4        -1.480297e-16 -1.480297e-16 -1.480297e-16 -1.480297e-16   \n13        4.444444e-02  4.444444e-02  4.444444e-02  4.444444e-02   \n38        0.000000e+00  0.000000e+00  0.000000e+00  0.000000e+00   \n56        2.000000e+00  2.000000e+00 -1.000000e+00  1.000000e+00   \n57       -3.375000e-01 -3.375000e-01 -3.375000e-01 -3.375000e-01   \n\nroute_id           178           212           213  \nuser_id                                             \n4        -1.480297e-16 -1.480297e-16 -1.480297e-16  \n13        4.444444e-02  4.444444e-02  4.444444e-02  \n38        0.000000e+00  0.000000e+00  0.000000e+00  \n56        0.000000e+00  3.809524e-01  3.809524e-01  \n57       -3.375000e-01 -1.562500e+00 -1.562500e+00  ",
      "text/html": "<div>\n<style scoped>\n    .dataframe tbody tr th:only-of-type {\n        vertical-align: middle;\n    }\n\n    .dataframe tbody tr th {\n        vertical-align: top;\n    }\n\n    .dataframe thead th {\n        text-align: right;\n    }\n</style>\n<table border=\"1\" class=\"dataframe\">\n  <thead>\n    <tr style=\"text-align: right;\">\n      <th>route_id</th>\n      <th>53</th>\n      <th>63</th>\n      <th>64</th>\n      <th>65</th>\n      <th>72</th>\n      <th>73</th>\n      <th>148</th>\n      <th>150</th>\n      <th>152</th>\n      <th>153</th>\n      <th>165</th>\n      <th>166</th>\n      <th>171</th>\n      <th>173</th>\n      <th>174</th>\n      <th>175</th>\n      <th>176</th>\n      <th>178</th>\n      <th>212</th>\n      <th>213</th>\n    </tr>\n    <tr>\n      <th>user_id</th>\n      <th></th>\n      <th></th>\n      <th></th>\n      <th></th>\n      <th></th>\n      <th></th>\n      <th></th>\n      <th></th>\n      <th></th>\n      <th></th>\n      <th></th>\n      <th></th>\n      <th></th>\n      <th></th>\n      <th></th>\n      <th></th>\n      <th></th>\n      <th></th>\n      <th></th>\n      <th></th>\n    </tr>\n  </thead>\n  <tbody>\n    <tr>\n      <th>4</th>\n      <td>1.666667</td>\n      <td>-1.333333</td>\n      <td>-1.480297e-16</td>\n      <td>-0.333333</td>\n      <td>-1.480297e-16</td>\n      <td>-1.480297e-16</td>\n      <td>-1.480297e-16</td>\n      <td>-1.480297e-16</td>\n      <td>-1.480297e-16</td>\n      <td>-1.480297e-16</td>\n      <td>-1.480297e-16</td>\n      <td>-1.480297e-16</td>\n      <td>-1.480297e-16</td>\n      <td>-1.480297e-16</td>\n      <td>-1.480297e-16</td>\n      <td>-1.480297e-16</td>\n      <td>-1.480297e-16</td>\n      <td>-1.480297e-16</td>\n      <td>-1.480297e-16</td>\n      <td>-1.480297e-16</td>\n    </tr>\n    <tr>\n      <th>13</th>\n      <td>0.444444</td>\n      <td>0.044444</td>\n      <td>4.444444e-02</td>\n      <td>-2.555556</td>\n      <td>4.444444e-02</td>\n      <td>4.444444e-02</td>\n      <td>-5.555556e-01</td>\n      <td>4.444444e-02</td>\n      <td>1.444444e+00</td>\n      <td>1.444444e+00</td>\n      <td>4.444444e-02</td>\n      <td>4.444444e-02</td>\n      <td>4.444444e-02</td>\n      <td>4.444444e-02</td>\n      <td>4.444444e-02</td>\n      <td>4.444444e-02</td>\n      <td>4.444444e-02</td>\n      <td>4.444444e-02</td>\n      <td>4.444444e-02</td>\n      <td>4.444444e-02</td>\n    </tr>\n    <tr>\n      <th>38</th>\n      <td>0.000000</td>\n      <td>0.000000</td>\n      <td>-1.000000e+00</td>\n      <td>0.000000</td>\n      <td>0.000000e+00</td>\n      <td>0.000000e+00</td>\n      <td>0.000000e+00</td>\n      <td>0.000000e+00</td>\n      <td>0.000000e+00</td>\n      <td>0.000000e+00</td>\n      <td>0.000000e+00</td>\n      <td>1.000000e+00</td>\n      <td>0.000000e+00</td>\n      <td>0.000000e+00</td>\n      <td>0.000000e+00</td>\n      <td>0.000000e+00</td>\n      <td>0.000000e+00</td>\n      <td>0.000000e+00</td>\n      <td>0.000000e+00</td>\n      <td>0.000000e+00</td>\n    </tr>\n    <tr>\n      <th>56</th>\n      <td>0.380952</td>\n      <td>0.380952</td>\n      <td>3.809524e-01</td>\n      <td>0.380952</td>\n      <td>3.809524e-01</td>\n      <td>3.809524e-01</td>\n      <td>3.809524e-01</td>\n      <td>3.809524e-01</td>\n      <td>3.809524e-01</td>\n      <td>3.809524e-01</td>\n      <td>0.000000e+00</td>\n      <td>3.809524e-01</td>\n      <td>-1.333333e+00</td>\n      <td>2.000000e+00</td>\n      <td>2.000000e+00</td>\n      <td>-1.000000e+00</td>\n      <td>1.000000e+00</td>\n      <td>0.000000e+00</td>\n      <td>3.809524e-01</td>\n      <td>3.809524e-01</td>\n    </tr>\n    <tr>\n      <th>57</th>\n      <td>-0.337500</td>\n      <td>-0.337500</td>\n      <td>-3.375000e-01</td>\n      <td>-1.562500</td>\n      <td>-1.562500e+00</td>\n      <td>-1.562500e+00</td>\n      <td>-3.375000e-01</td>\n      <td>-1.562500e+00</td>\n      <td>2.437500e+00</td>\n      <td>2.437500e+00</td>\n      <td>1.875000e-01</td>\n      <td>9.375000e-01</td>\n      <td>-3.375000e-01</td>\n      <td>-3.375000e-01</td>\n      <td>-3.375000e-01</td>\n      <td>-3.375000e-01</td>\n      <td>-3.375000e-01</td>\n      <td>-3.375000e-01</td>\n      <td>-1.562500e+00</td>\n      <td>-1.562500e+00</td>\n    </tr>\n  </tbody>\n</table>\n</div>"
     },
     "metadata": {},
     "execution_count": 18
    }
   ],
   "source": [
    "# Replacing NaN by user Average\n",
    "final_user = final.apply(lambda row: row.fillna(row.mean()), axis=1)\n",
    "final_user.head()"
   ]
  },
  {
   "cell_type": "code",
   "execution_count": 19,
   "metadata": {},
   "outputs": [
    {
     "output_type": "execute_result",
     "data": {
      "text/plain": "user_id            4         13        38            56        57\nuser_id                                                          \n4        0.000000e+00  0.211719  0.000000 -2.359224e-16  0.035355\n13       2.117189e-01  0.000000  0.000000  2.732432e-02  0.594450\n38       0.000000e+00  0.000000  0.000000  0.000000e+00  0.168628\n56      -2.359224e-16  0.027324  0.000000  0.000000e+00 -0.140231\n57       3.535469e-02  0.594450  0.168628 -1.402310e-01  0.000000",
      "text/html": "<div>\n<style scoped>\n    .dataframe tbody tr th:only-of-type {\n        vertical-align: middle;\n    }\n\n    .dataframe tbody tr th {\n        vertical-align: top;\n    }\n\n    .dataframe thead th {\n        text-align: right;\n    }\n</style>\n<table border=\"1\" class=\"dataframe\">\n  <thead>\n    <tr style=\"text-align: right;\">\n      <th>user_id</th>\n      <th>4</th>\n      <th>13</th>\n      <th>38</th>\n      <th>56</th>\n      <th>57</th>\n    </tr>\n    <tr>\n      <th>user_id</th>\n      <th></th>\n      <th></th>\n      <th></th>\n      <th></th>\n      <th></th>\n    </tr>\n  </thead>\n  <tbody>\n    <tr>\n      <th>4</th>\n      <td>0.000000e+00</td>\n      <td>0.211719</td>\n      <td>0.000000</td>\n      <td>-2.359224e-16</td>\n      <td>0.035355</td>\n    </tr>\n    <tr>\n      <th>13</th>\n      <td>2.117189e-01</td>\n      <td>0.000000</td>\n      <td>0.000000</td>\n      <td>2.732432e-02</td>\n      <td>0.594450</td>\n    </tr>\n    <tr>\n      <th>38</th>\n      <td>0.000000e+00</td>\n      <td>0.000000</td>\n      <td>0.000000</td>\n      <td>0.000000e+00</td>\n      <td>0.168628</td>\n    </tr>\n    <tr>\n      <th>56</th>\n      <td>-2.359224e-16</td>\n      <td>0.027324</td>\n      <td>0.000000</td>\n      <td>0.000000e+00</td>\n      <td>-0.140231</td>\n    </tr>\n    <tr>\n      <th>57</th>\n      <td>3.535469e-02</td>\n      <td>0.594450</td>\n      <td>0.168628</td>\n      <td>-1.402310e-01</td>\n      <td>0.000000</td>\n    </tr>\n  </tbody>\n</table>\n</div>"
     },
     "metadata": {},
     "execution_count": 19
    }
   ],
   "source": [
    "# user similarity on replacing NAN by user avg\n",
    "b = cosine_similarity(final_user)\n",
    "np.fill_diagonal(b, 0 )\n",
    "similarity_with_user = pd.DataFrame(b,index=final_user.index)\n",
    "similarity_with_user.columns=final_user.index\n",
    "similarity_with_user.head()"
   ]
  },
  {
   "cell_type": "code",
   "execution_count": 20,
   "metadata": {},
   "outputs": [
    {
     "output_type": "execute_result",
     "data": {
      "text/plain": "user_id        4         13        38        56        57\nuser_id                                                  \n4        0.000000  0.910489  0.978019  0.978010  0.972561\n13       0.910489  0.000000  0.974047  0.974039  0.960774\n38       0.978019  0.974047  0.000000  0.999988  0.994950\n56       0.978010  0.974039  0.999988  0.000000  0.995025\n57       0.972561  0.960774  0.994950  0.995025  0.000000",
      "text/html": "<div>\n<style scoped>\n    .dataframe tbody tr th:only-of-type {\n        vertical-align: middle;\n    }\n\n    .dataframe tbody tr th {\n        vertical-align: top;\n    }\n\n    .dataframe thead th {\n        text-align: right;\n    }\n</style>\n<table border=\"1\" class=\"dataframe\">\n  <thead>\n    <tr style=\"text-align: right;\">\n      <th>user_id</th>\n      <th>4</th>\n      <th>13</th>\n      <th>38</th>\n      <th>56</th>\n      <th>57</th>\n    </tr>\n    <tr>\n      <th>user_id</th>\n      <th></th>\n      <th></th>\n      <th></th>\n      <th></th>\n      <th></th>\n    </tr>\n  </thead>\n  <tbody>\n    <tr>\n      <th>4</th>\n      <td>0.000000</td>\n      <td>0.910489</td>\n      <td>0.978019</td>\n      <td>0.978010</td>\n      <td>0.972561</td>\n    </tr>\n    <tr>\n      <th>13</th>\n      <td>0.910489</td>\n      <td>0.000000</td>\n      <td>0.974047</td>\n      <td>0.974039</td>\n      <td>0.960774</td>\n    </tr>\n    <tr>\n      <th>38</th>\n      <td>0.978019</td>\n      <td>0.974047</td>\n      <td>0.000000</td>\n      <td>0.999988</td>\n      <td>0.994950</td>\n    </tr>\n    <tr>\n      <th>56</th>\n      <td>0.978010</td>\n      <td>0.974039</td>\n      <td>0.999988</td>\n      <td>0.000000</td>\n      <td>0.995025</td>\n    </tr>\n    <tr>\n      <th>57</th>\n      <td>0.972561</td>\n      <td>0.960774</td>\n      <td>0.994950</td>\n      <td>0.995025</td>\n      <td>0.000000</td>\n    </tr>\n  </tbody>\n</table>\n</div>"
     },
     "metadata": {},
     "execution_count": 20
    }
   ],
   "source": [
    "# user similarity on replacing NAN by item(route) avg\n",
    "cosine = cosine_similarity(final_route)\n",
    "np.fill_diagonal(cosine, 0 )\n",
    "similarity_with_route = pd.DataFrame(cosine,index=final_route.index)\n",
    "similarity_with_route.columns=final_user.index\n",
    "similarity_with_route.head()"
   ]
  },
  {
   "cell_type": "code",
   "execution_count": 21,
   "metadata": {},
   "outputs": [],
   "source": [
    "def find_n_neighbours(df,n):\n",
    "    order = np.argsort(df.values, axis=1)[:, :n]\n",
    "    df = df.apply(lambda x: pd.Series(x.sort_values(ascending=False)\n",
    "           .iloc[:n].index, \n",
    "          index=['top{}'.format(i) for i in range(1, n+1)]), axis=1)\n",
    "    return df"
   ]
  },
  {
   "cell_type": "code",
   "execution_count": 22,
   "metadata": {},
   "outputs": [
    {
     "output_type": "execute_result",
     "data": {
      "text/plain": "         top1  top2  top3\nuser_id                  \n4          13    57    38\n13         57     4    56\n38         57    56    38\n56         13    56    38\n57         13    38     4",
      "text/html": "<div>\n<style scoped>\n    .dataframe tbody tr th:only-of-type {\n        vertical-align: middle;\n    }\n\n    .dataframe tbody tr th {\n        vertical-align: top;\n    }\n\n    .dataframe thead th {\n        text-align: right;\n    }\n</style>\n<table border=\"1\" class=\"dataframe\">\n  <thead>\n    <tr style=\"text-align: right;\">\n      <th></th>\n      <th>top1</th>\n      <th>top2</th>\n      <th>top3</th>\n    </tr>\n    <tr>\n      <th>user_id</th>\n      <th></th>\n      <th></th>\n      <th></th>\n    </tr>\n  </thead>\n  <tbody>\n    <tr>\n      <th>4</th>\n      <td>13</td>\n      <td>57</td>\n      <td>38</td>\n    </tr>\n    <tr>\n      <th>13</th>\n      <td>57</td>\n      <td>4</td>\n      <td>56</td>\n    </tr>\n    <tr>\n      <th>38</th>\n      <td>57</td>\n      <td>56</td>\n      <td>38</td>\n    </tr>\n    <tr>\n      <th>56</th>\n      <td>13</td>\n      <td>56</td>\n      <td>38</td>\n    </tr>\n    <tr>\n      <th>57</th>\n      <td>13</td>\n      <td>38</td>\n      <td>4</td>\n    </tr>\n  </tbody>\n</table>\n</div>"
     },
     "metadata": {},
     "execution_count": 22
    }
   ],
   "source": [
    "# top 3 neighbours for each user\n",
    "sim_user_3_u = find_n_neighbours(similarity_with_user,3)\n",
    "sim_user_3_u.head()"
   ]
  },
  {
   "cell_type": "code",
   "execution_count": 23,
   "metadata": {},
   "outputs": [
    {
     "output_type": "execute_result",
     "data": {
      "text/plain": "         top1  top2  top3\nuser_id                  \n4          38    56    57\n13         38    56    57\n38         56    57     4\n56         38    57     4\n57         56    38     4",
      "text/html": "<div>\n<style scoped>\n    .dataframe tbody tr th:only-of-type {\n        vertical-align: middle;\n    }\n\n    .dataframe tbody tr th {\n        vertical-align: top;\n    }\n\n    .dataframe thead th {\n        text-align: right;\n    }\n</style>\n<table border=\"1\" class=\"dataframe\">\n  <thead>\n    <tr style=\"text-align: right;\">\n      <th></th>\n      <th>top1</th>\n      <th>top2</th>\n      <th>top3</th>\n    </tr>\n    <tr>\n      <th>user_id</th>\n      <th></th>\n      <th></th>\n      <th></th>\n    </tr>\n  </thead>\n  <tbody>\n    <tr>\n      <th>4</th>\n      <td>38</td>\n      <td>56</td>\n      <td>57</td>\n    </tr>\n    <tr>\n      <th>13</th>\n      <td>38</td>\n      <td>56</td>\n      <td>57</td>\n    </tr>\n    <tr>\n      <th>38</th>\n      <td>56</td>\n      <td>57</td>\n      <td>4</td>\n    </tr>\n    <tr>\n      <th>56</th>\n      <td>38</td>\n      <td>57</td>\n      <td>4</td>\n    </tr>\n    <tr>\n      <th>57</th>\n      <td>56</td>\n      <td>38</td>\n      <td>4</td>\n    </tr>\n  </tbody>\n</table>\n</div>"
     },
     "metadata": {},
     "execution_count": 23
    }
   ],
   "source": [
    "sim_user_3_m = find_n_neighbours(similarity_with_route,3)\n",
    "sim_user_3_m.head()"
   ]
  },
  {
   "cell_type": "code",
   "execution_count": 27,
   "metadata": {},
   "outputs": [],
   "source": [
    "def get_user_similar_routes( user1, user2 ):\n",
    "    common_routes = Rating_avg[Rating_avg.user_id == user1].merge(\n",
    "    Rating_avg[Rating_avg.user_id == user2],\n",
    "    on = \"route_id\",\n",
    "    how = \"inner\" )\n",
    "    return common_routes.merge( routes, on = 'route_id' )"
   ]
  },
  {
   "cell_type": "code",
   "execution_count": 28,
   "metadata": {},
   "outputs": [
    {
     "output_type": "error",
     "ename": "NameError",
     "evalue": "name 'routes' is not defined",
     "traceback": [
      "\u001b[0;31m---------------------------------------------------------------------------\u001b[0m",
      "\u001b[0;31mNameError\u001b[0m                                 Traceback (most recent call last)",
      "\u001b[0;32m<ipython-input-28-7c1baece7da8>\u001b[0m in \u001b[0;36m<module>\u001b[0;34m\u001b[0m\n\u001b[0;32m----> 1\u001b[0;31m \u001b[0ma\u001b[0m \u001b[0;34m=\u001b[0m \u001b[0mget_user_similar_routes\u001b[0m\u001b[0;34m(\u001b[0m\u001b[0;36m4\u001b[0m\u001b[0;34m,\u001b[0m\u001b[0;36m13\u001b[0m\u001b[0;34m)\u001b[0m\u001b[0;34m\u001b[0m\u001b[0;34m\u001b[0m\u001b[0m\n\u001b[0m\u001b[1;32m      2\u001b[0m \u001b[0ma\u001b[0m \u001b[0;34m=\u001b[0m \u001b[0ma\u001b[0m\u001b[0;34m.\u001b[0m\u001b[0mloc\u001b[0m\u001b[0;34m[\u001b[0m \u001b[0;34m:\u001b[0m \u001b[0;34m,\u001b[0m \u001b[0;34m[\u001b[0m\u001b[0;34m'rating_x_x'\u001b[0m\u001b[0;34m,\u001b[0m\u001b[0;34m'rating_x_y'\u001b[0m\u001b[0;34m,\u001b[0m\u001b[0;34m'route_id'\u001b[0m\u001b[0;34m]\u001b[0m\u001b[0;34m]\u001b[0m\u001b[0;34m\u001b[0m\u001b[0;34m\u001b[0m\u001b[0m\n\u001b[1;32m      3\u001b[0m \u001b[0ma\u001b[0m\u001b[0;34m.\u001b[0m\u001b[0mhead\u001b[0m\u001b[0;34m(\u001b[0m\u001b[0;34m)\u001b[0m\u001b[0;34m\u001b[0m\u001b[0;34m\u001b[0m\u001b[0m\n",
      "\u001b[0;32m<ipython-input-27-cdb4f532bf9e>\u001b[0m in \u001b[0;36mget_user_similar_routes\u001b[0;34m(user1, user2)\u001b[0m\n\u001b[1;32m      4\u001b[0m     \u001b[0mon\u001b[0m \u001b[0;34m=\u001b[0m \u001b[0;34m\"route_id\"\u001b[0m\u001b[0;34m,\u001b[0m\u001b[0;34m\u001b[0m\u001b[0;34m\u001b[0m\u001b[0m\n\u001b[1;32m      5\u001b[0m     how = \"inner\" )\n\u001b[0;32m----> 6\u001b[0;31m     \u001b[0;32mreturn\u001b[0m \u001b[0mcommon_routes\u001b[0m\u001b[0;34m.\u001b[0m\u001b[0mmerge\u001b[0m\u001b[0;34m(\u001b[0m \u001b[0mroutes\u001b[0m\u001b[0;34m,\u001b[0m \u001b[0mon\u001b[0m \u001b[0;34m=\u001b[0m \u001b[0;34m'route_id'\u001b[0m \u001b[0;34m)\u001b[0m\u001b[0;34m\u001b[0m\u001b[0;34m\u001b[0m\u001b[0m\n\u001b[0m",
      "\u001b[0;31mNameError\u001b[0m: name 'routes' is not defined"
     ]
    }
   ],
   "source": [
    "a = get_user_similar_routes(4,13)\n",
    "a = a.loc[ : , ['rating_x_x','rating_x_y','route_id']]\n",
    "a.head()"
   ]
  },
  {
   "cell_type": "code",
   "execution_count": null,
   "metadata": {},
   "outputs": [],
   "source": []
  }
 ],
 "metadata": {
  "language_info": {
   "name": "python",
   "codemirror_mode": {
    "name": "ipython",
    "version": 3
   },
   "version": "3.7.6-final"
  },
  "orig_nbformat": 2,
  "file_extension": ".py",
  "mimetype": "text/x-python",
  "name": "python",
  "npconvert_exporter": "python",
  "pygments_lexer": "ipython3",
  "version": 3,
  "kernelspec": {
   "name": "python3",
   "display_name": "Python 3"
  }
 },
 "nbformat": 4,
 "nbformat_minor": 2
}