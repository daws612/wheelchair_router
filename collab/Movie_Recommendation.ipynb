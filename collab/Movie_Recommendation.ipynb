{
 "cells": [
  {
   "cell_type": "code",
   "execution_count": 1,
   "metadata": {},
   "outputs": [],
   "source": [
    "import pandas as pd\n",
    "import numpy as np\n",
    "from sklearn.metrics.pairwise import cosine_similarity\n",
    "from sklearn.metrics import pairwise_distances"
   ]
  },
  {
   "cell_type": "code",
   "execution_count": 2,
   "metadata": {},
   "outputs": [
    {
     "output_type": "execute_result",
     "data": {
      "text/plain": "   userId  movieId  rating_x  timestamp  rating_y  adg_rating\n0       1        1       4.0  964982703  4.366379   -0.366379\n1       1        3       4.0  964981247  4.366379   -0.366379\n2       1        6       4.0  964982224  4.366379   -0.366379\n3       1       47       5.0  964983815  4.366379    0.633621\n4       1       50       5.0  964982931  4.366379    0.633621",
      "text/html": "<div>\n<style scoped>\n    .dataframe tbody tr th:only-of-type {\n        vertical-align: middle;\n    }\n\n    .dataframe tbody tr th {\n        vertical-align: top;\n    }\n\n    .dataframe thead th {\n        text-align: right;\n    }\n</style>\n<table border=\"1\" class=\"dataframe\">\n  <thead>\n    <tr style=\"text-align: right;\">\n      <th></th>\n      <th>userId</th>\n      <th>movieId</th>\n      <th>rating_x</th>\n      <th>timestamp</th>\n      <th>rating_y</th>\n      <th>adg_rating</th>\n    </tr>\n  </thead>\n  <tbody>\n    <tr>\n      <th>0</th>\n      <td>1</td>\n      <td>1</td>\n      <td>4.0</td>\n      <td>964982703</td>\n      <td>4.366379</td>\n      <td>-0.366379</td>\n    </tr>\n    <tr>\n      <th>1</th>\n      <td>1</td>\n      <td>3</td>\n      <td>4.0</td>\n      <td>964981247</td>\n      <td>4.366379</td>\n      <td>-0.366379</td>\n    </tr>\n    <tr>\n      <th>2</th>\n      <td>1</td>\n      <td>6</td>\n      <td>4.0</td>\n      <td>964982224</td>\n      <td>4.366379</td>\n      <td>-0.366379</td>\n    </tr>\n    <tr>\n      <th>3</th>\n      <td>1</td>\n      <td>47</td>\n      <td>5.0</td>\n      <td>964983815</td>\n      <td>4.366379</td>\n      <td>0.633621</td>\n    </tr>\n    <tr>\n      <th>4</th>\n      <td>1</td>\n      <td>50</td>\n      <td>5.0</td>\n      <td>964982931</td>\n      <td>4.366379</td>\n      <td>0.633621</td>\n    </tr>\n  </tbody>\n</table>\n</div>"
     },
     "metadata": {},
     "execution_count": 2
    }
   ],
   "source": [
    "import pandas as pd\n",
    "\n",
    "movies = pd.read_csv(\"ml-latest-small/movies.csv\",encoding=\"Latin1\")\n",
    "Ratings = pd.read_csv(\"ml-latest-small/ratings.csv\")\n",
    "Tags = pd.read_csv(\"ml-latest-small/tags.csv\",encoding=\"Latin1\")\n",
    "\n",
    "Mean = Ratings.groupby(by=\"userId\",as_index=False)['rating'].mean()\n",
    "Rating_avg = pd.merge(Ratings,Mean,on='userId')\n",
    "Rating_avg['adg_rating']=Rating_avg['rating_x']-Rating_avg['rating_y']\n",
    "Rating_avg.head()"
   ]
  },
  {
   "cell_type": "code",
   "execution_count": 3,
   "metadata": {},
   "outputs": [
    {
     "output_type": "execute_result",
     "data": {
      "text/plain": "   movieId                               title  \\\n0        1                    Toy Story (1995)   \n1        2                      Jumanji (1995)   \n2        3             Grumpier Old Men (1995)   \n3        4            Waiting to Exhale (1995)   \n4        5  Father of the Bride Part II (1995)   \n\n                                        genres  \n0  Adventure|Animation|Children|Comedy|Fantasy  \n1                   Adventure|Children|Fantasy  \n2                               Comedy|Romance  \n3                         Comedy|Drama|Romance  \n4                                       Comedy  ",
      "text/html": "<div>\n<style scoped>\n    .dataframe tbody tr th:only-of-type {\n        vertical-align: middle;\n    }\n\n    .dataframe tbody tr th {\n        vertical-align: top;\n    }\n\n    .dataframe thead th {\n        text-align: right;\n    }\n</style>\n<table border=\"1\" class=\"dataframe\">\n  <thead>\n    <tr style=\"text-align: right;\">\n      <th></th>\n      <th>movieId</th>\n      <th>title</th>\n      <th>genres</th>\n    </tr>\n  </thead>\n  <tbody>\n    <tr>\n      <th>0</th>\n      <td>1</td>\n      <td>Toy Story (1995)</td>\n      <td>Adventure|Animation|Children|Comedy|Fantasy</td>\n    </tr>\n    <tr>\n      <th>1</th>\n      <td>2</td>\n      <td>Jumanji (1995)</td>\n      <td>Adventure|Children|Fantasy</td>\n    </tr>\n    <tr>\n      <th>2</th>\n      <td>3</td>\n      <td>Grumpier Old Men (1995)</td>\n      <td>Comedy|Romance</td>\n    </tr>\n    <tr>\n      <th>3</th>\n      <td>4</td>\n      <td>Waiting to Exhale (1995)</td>\n      <td>Comedy|Drama|Romance</td>\n    </tr>\n    <tr>\n      <th>4</th>\n      <td>5</td>\n      <td>Father of the Bride Part II (1995)</td>\n      <td>Comedy</td>\n    </tr>\n  </tbody>\n</table>\n</div>"
     },
     "metadata": {},
     "execution_count": 3
    }
   ],
   "source": [
    "movies.head()"
   ]
  },
  {
   "cell_type": "code",
   "execution_count": 4,
   "metadata": {},
   "outputs": [
    {
     "output_type": "execute_result",
     "data": {
      "text/plain": "   userId  movieId  rating  timestamp\n0       1        1     4.0  964982703\n1       1        3     4.0  964981247\n2       1        6     4.0  964982224\n3       1       47     5.0  964983815\n4       1       50     5.0  964982931",
      "text/html": "<div>\n<style scoped>\n    .dataframe tbody tr th:only-of-type {\n        vertical-align: middle;\n    }\n\n    .dataframe tbody tr th {\n        vertical-align: top;\n    }\n\n    .dataframe thead th {\n        text-align: right;\n    }\n</style>\n<table border=\"1\" class=\"dataframe\">\n  <thead>\n    <tr style=\"text-align: right;\">\n      <th></th>\n      <th>userId</th>\n      <th>movieId</th>\n      <th>rating</th>\n      <th>timestamp</th>\n    </tr>\n  </thead>\n  <tbody>\n    <tr>\n      <th>0</th>\n      <td>1</td>\n      <td>1</td>\n      <td>4.0</td>\n      <td>964982703</td>\n    </tr>\n    <tr>\n      <th>1</th>\n      <td>1</td>\n      <td>3</td>\n      <td>4.0</td>\n      <td>964981247</td>\n    </tr>\n    <tr>\n      <th>2</th>\n      <td>1</td>\n      <td>6</td>\n      <td>4.0</td>\n      <td>964982224</td>\n    </tr>\n    <tr>\n      <th>3</th>\n      <td>1</td>\n      <td>47</td>\n      <td>5.0</td>\n      <td>964983815</td>\n    </tr>\n    <tr>\n      <th>4</th>\n      <td>1</td>\n      <td>50</td>\n      <td>5.0</td>\n      <td>964982931</td>\n    </tr>\n  </tbody>\n</table>\n</div>"
     },
     "metadata": {},
     "execution_count": 4
    }
   ],
   "source": [
    "Ratings.head()"
   ]
  },
  {
   "cell_type": "code",
   "execution_count": 5,
   "metadata": {},
   "outputs": [
    {
     "output_type": "execute_result",
     "data": {
      "text/plain": "   userId  movieId              tag   timestamp\n0       2    60756            funny  1445714994\n1       2    60756  Highly quotable  1445714996\n2       2    60756     will ferrell  1445714992\n3       2    89774     Boxing story  1445715207\n4       2    89774              MMA  1445715200",
      "text/html": "<div>\n<style scoped>\n    .dataframe tbody tr th:only-of-type {\n        vertical-align: middle;\n    }\n\n    .dataframe tbody tr th {\n        vertical-align: top;\n    }\n\n    .dataframe thead th {\n        text-align: right;\n    }\n</style>\n<table border=\"1\" class=\"dataframe\">\n  <thead>\n    <tr style=\"text-align: right;\">\n      <th></th>\n      <th>userId</th>\n      <th>movieId</th>\n      <th>tag</th>\n      <th>timestamp</th>\n    </tr>\n  </thead>\n  <tbody>\n    <tr>\n      <th>0</th>\n      <td>2</td>\n      <td>60756</td>\n      <td>funny</td>\n      <td>1445714994</td>\n    </tr>\n    <tr>\n      <th>1</th>\n      <td>2</td>\n      <td>60756</td>\n      <td>Highly quotable</td>\n      <td>1445714996</td>\n    </tr>\n    <tr>\n      <th>2</th>\n      <td>2</td>\n      <td>60756</td>\n      <td>will ferrell</td>\n      <td>1445714992</td>\n    </tr>\n    <tr>\n      <th>3</th>\n      <td>2</td>\n      <td>89774</td>\n      <td>Boxing story</td>\n      <td>1445715207</td>\n    </tr>\n    <tr>\n      <th>4</th>\n      <td>2</td>\n      <td>89774</td>\n      <td>MMA</td>\n      <td>1445715200</td>\n    </tr>\n  </tbody>\n</table>\n</div>"
     },
     "metadata": {},
     "execution_count": 5
    }
   ],
   "source": [
    "Tags.head()"
   ]
  },
  {
   "cell_type": "code",
   "execution_count": 6,
   "metadata": {},
   "outputs": [
    {
     "output_type": "execute_result",
     "data": {
      "text/plain": "movieId  1       2       3       4       5       6       7       8       \\\nuserId                                                                    \n1           4.0     NaN     4.0     NaN     NaN     4.0     NaN     NaN   \n2           NaN     NaN     NaN     NaN     NaN     NaN     NaN     NaN   \n3           NaN     NaN     NaN     NaN     NaN     NaN     NaN     NaN   \n4           NaN     NaN     NaN     NaN     NaN     NaN     NaN     NaN   \n5           4.0     NaN     NaN     NaN     NaN     NaN     NaN     NaN   \n\nmovieId  9       10      ...  193565  193567  193571  193573  193579  193581  \\\nuserId                   ...                                                   \n1           NaN     NaN  ...     NaN     NaN     NaN     NaN     NaN     NaN   \n2           NaN     NaN  ...     NaN     NaN     NaN     NaN     NaN     NaN   \n3           NaN     NaN  ...     NaN     NaN     NaN     NaN     NaN     NaN   \n4           NaN     NaN  ...     NaN     NaN     NaN     NaN     NaN     NaN   \n5           NaN     NaN  ...     NaN     NaN     NaN     NaN     NaN     NaN   \n\nmovieId  193583  193585  193587  193609  \nuserId                                   \n1           NaN     NaN     NaN     NaN  \n2           NaN     NaN     NaN     NaN  \n3           NaN     NaN     NaN     NaN  \n4           NaN     NaN     NaN     NaN  \n5           NaN     NaN     NaN     NaN  \n\n[5 rows x 9724 columns]",
      "text/html": "<div>\n<style scoped>\n    .dataframe tbody tr th:only-of-type {\n        vertical-align: middle;\n    }\n\n    .dataframe tbody tr th {\n        vertical-align: top;\n    }\n\n    .dataframe thead th {\n        text-align: right;\n    }\n</style>\n<table border=\"1\" class=\"dataframe\">\n  <thead>\n    <tr style=\"text-align: right;\">\n      <th>movieId</th>\n      <th>1</th>\n      <th>2</th>\n      <th>3</th>\n      <th>4</th>\n      <th>5</th>\n      <th>6</th>\n      <th>7</th>\n      <th>8</th>\n      <th>9</th>\n      <th>10</th>\n      <th>...</th>\n      <th>193565</th>\n      <th>193567</th>\n      <th>193571</th>\n      <th>193573</th>\n      <th>193579</th>\n      <th>193581</th>\n      <th>193583</th>\n      <th>193585</th>\n      <th>193587</th>\n      <th>193609</th>\n    </tr>\n    <tr>\n      <th>userId</th>\n      <th></th>\n      <th></th>\n      <th></th>\n      <th></th>\n      <th></th>\n      <th></th>\n      <th></th>\n      <th></th>\n      <th></th>\n      <th></th>\n      <th></th>\n      <th></th>\n      <th></th>\n      <th></th>\n      <th></th>\n      <th></th>\n      <th></th>\n      <th></th>\n      <th></th>\n      <th></th>\n      <th></th>\n    </tr>\n  </thead>\n  <tbody>\n    <tr>\n      <th>1</th>\n      <td>4.0</td>\n      <td>NaN</td>\n      <td>4.0</td>\n      <td>NaN</td>\n      <td>NaN</td>\n      <td>4.0</td>\n      <td>NaN</td>\n      <td>NaN</td>\n      <td>NaN</td>\n      <td>NaN</td>\n      <td>...</td>\n      <td>NaN</td>\n      <td>NaN</td>\n      <td>NaN</td>\n      <td>NaN</td>\n      <td>NaN</td>\n      <td>NaN</td>\n      <td>NaN</td>\n      <td>NaN</td>\n      <td>NaN</td>\n      <td>NaN</td>\n    </tr>\n    <tr>\n      <th>2</th>\n      <td>NaN</td>\n      <td>NaN</td>\n      <td>NaN</td>\n      <td>NaN</td>\n      <td>NaN</td>\n      <td>NaN</td>\n      <td>NaN</td>\n      <td>NaN</td>\n      <td>NaN</td>\n      <td>NaN</td>\n      <td>...</td>\n      <td>NaN</td>\n      <td>NaN</td>\n      <td>NaN</td>\n      <td>NaN</td>\n      <td>NaN</td>\n      <td>NaN</td>\n      <td>NaN</td>\n      <td>NaN</td>\n      <td>NaN</td>\n      <td>NaN</td>\n    </tr>\n    <tr>\n      <th>3</th>\n      <td>NaN</td>\n      <td>NaN</td>\n      <td>NaN</td>\n      <td>NaN</td>\n      <td>NaN</td>\n      <td>NaN</td>\n      <td>NaN</td>\n      <td>NaN</td>\n      <td>NaN</td>\n      <td>NaN</td>\n      <td>...</td>\n      <td>NaN</td>\n      <td>NaN</td>\n      <td>NaN</td>\n      <td>NaN</td>\n      <td>NaN</td>\n      <td>NaN</td>\n      <td>NaN</td>\n      <td>NaN</td>\n      <td>NaN</td>\n      <td>NaN</td>\n    </tr>\n    <tr>\n      <th>4</th>\n      <td>NaN</td>\n      <td>NaN</td>\n      <td>NaN</td>\n      <td>NaN</td>\n      <td>NaN</td>\n      <td>NaN</td>\n      <td>NaN</td>\n      <td>NaN</td>\n      <td>NaN</td>\n      <td>NaN</td>\n      <td>...</td>\n      <td>NaN</td>\n      <td>NaN</td>\n      <td>NaN</td>\n      <td>NaN</td>\n      <td>NaN</td>\n      <td>NaN</td>\n      <td>NaN</td>\n      <td>NaN</td>\n      <td>NaN</td>\n      <td>NaN</td>\n    </tr>\n    <tr>\n      <th>5</th>\n      <td>4.0</td>\n      <td>NaN</td>\n      <td>NaN</td>\n      <td>NaN</td>\n      <td>NaN</td>\n      <td>NaN</td>\n      <td>NaN</td>\n      <td>NaN</td>\n      <td>NaN</td>\n      <td>NaN</td>\n      <td>...</td>\n      <td>NaN</td>\n      <td>NaN</td>\n      <td>NaN</td>\n      <td>NaN</td>\n      <td>NaN</td>\n      <td>NaN</td>\n      <td>NaN</td>\n      <td>NaN</td>\n      <td>NaN</td>\n      <td>NaN</td>\n    </tr>\n  </tbody>\n</table>\n<p>5 rows × 9724 columns</p>\n</div>"
     },
     "metadata": {},
     "execution_count": 6
    }
   ],
   "source": [
    "check = pd.pivot_table(Rating_avg,values='rating_x',index='userId',columns='movieId')\n",
    "check.head()"
   ]
  },
  {
   "cell_type": "code",
   "execution_count": 7,
   "metadata": {},
   "outputs": [
    {
     "output_type": "execute_result",
     "data": {
      "text/plain": "movieId    1       2         3       4       5         6       7       8       \\\nuserId                                                                          \n1       -0.366379     NaN -0.366379     NaN     NaN -0.366379     NaN     NaN   \n2             NaN     NaN       NaN     NaN     NaN       NaN     NaN     NaN   \n3             NaN     NaN       NaN     NaN     NaN       NaN     NaN     NaN   \n4             NaN     NaN       NaN     NaN     NaN       NaN     NaN     NaN   \n5        0.363636     NaN       NaN     NaN     NaN       NaN     NaN     NaN   \n\nmovieId  9       10      ...  193565  193567  193571  193573  193579  193581  \\\nuserId                   ...                                                   \n1           NaN     NaN  ...     NaN     NaN     NaN     NaN     NaN     NaN   \n2           NaN     NaN  ...     NaN     NaN     NaN     NaN     NaN     NaN   \n3           NaN     NaN  ...     NaN     NaN     NaN     NaN     NaN     NaN   \n4           NaN     NaN  ...     NaN     NaN     NaN     NaN     NaN     NaN   \n5           NaN     NaN  ...     NaN     NaN     NaN     NaN     NaN     NaN   \n\nmovieId  193583  193585  193587  193609  \nuserId                                   \n1           NaN     NaN     NaN     NaN  \n2           NaN     NaN     NaN     NaN  \n3           NaN     NaN     NaN     NaN  \n4           NaN     NaN     NaN     NaN  \n5           NaN     NaN     NaN     NaN  \n\n[5 rows x 9724 columns]",
      "text/html": "<div>\n<style scoped>\n    .dataframe tbody tr th:only-of-type {\n        vertical-align: middle;\n    }\n\n    .dataframe tbody tr th {\n        vertical-align: top;\n    }\n\n    .dataframe thead th {\n        text-align: right;\n    }\n</style>\n<table border=\"1\" class=\"dataframe\">\n  <thead>\n    <tr style=\"text-align: right;\">\n      <th>movieId</th>\n      <th>1</th>\n      <th>2</th>\n      <th>3</th>\n      <th>4</th>\n      <th>5</th>\n      <th>6</th>\n      <th>7</th>\n      <th>8</th>\n      <th>9</th>\n      <th>10</th>\n      <th>...</th>\n      <th>193565</th>\n      <th>193567</th>\n      <th>193571</th>\n      <th>193573</th>\n      <th>193579</th>\n      <th>193581</th>\n      <th>193583</th>\n      <th>193585</th>\n      <th>193587</th>\n      <th>193609</th>\n    </tr>\n    <tr>\n      <th>userId</th>\n      <th></th>\n      <th></th>\n      <th></th>\n      <th></th>\n      <th></th>\n      <th></th>\n      <th></th>\n      <th></th>\n      <th></th>\n      <th></th>\n      <th></th>\n      <th></th>\n      <th></th>\n      <th></th>\n      <th></th>\n      <th></th>\n      <th></th>\n      <th></th>\n      <th></th>\n      <th></th>\n      <th></th>\n    </tr>\n  </thead>\n  <tbody>\n    <tr>\n      <th>1</th>\n      <td>-0.366379</td>\n      <td>NaN</td>\n      <td>-0.366379</td>\n      <td>NaN</td>\n      <td>NaN</td>\n      <td>-0.366379</td>\n      <td>NaN</td>\n      <td>NaN</td>\n      <td>NaN</td>\n      <td>NaN</td>\n      <td>...</td>\n      <td>NaN</td>\n      <td>NaN</td>\n      <td>NaN</td>\n      <td>NaN</td>\n      <td>NaN</td>\n      <td>NaN</td>\n      <td>NaN</td>\n      <td>NaN</td>\n      <td>NaN</td>\n      <td>NaN</td>\n    </tr>\n    <tr>\n      <th>2</th>\n      <td>NaN</td>\n      <td>NaN</td>\n      <td>NaN</td>\n      <td>NaN</td>\n      <td>NaN</td>\n      <td>NaN</td>\n      <td>NaN</td>\n      <td>NaN</td>\n      <td>NaN</td>\n      <td>NaN</td>\n      <td>...</td>\n      <td>NaN</td>\n      <td>NaN</td>\n      <td>NaN</td>\n      <td>NaN</td>\n      <td>NaN</td>\n      <td>NaN</td>\n      <td>NaN</td>\n      <td>NaN</td>\n      <td>NaN</td>\n      <td>NaN</td>\n    </tr>\n    <tr>\n      <th>3</th>\n      <td>NaN</td>\n      <td>NaN</td>\n      <td>NaN</td>\n      <td>NaN</td>\n      <td>NaN</td>\n      <td>NaN</td>\n      <td>NaN</td>\n      <td>NaN</td>\n      <td>NaN</td>\n      <td>NaN</td>\n      <td>...</td>\n      <td>NaN</td>\n      <td>NaN</td>\n      <td>NaN</td>\n      <td>NaN</td>\n      <td>NaN</td>\n      <td>NaN</td>\n      <td>NaN</td>\n      <td>NaN</td>\n      <td>NaN</td>\n      <td>NaN</td>\n    </tr>\n    <tr>\n      <th>4</th>\n      <td>NaN</td>\n      <td>NaN</td>\n      <td>NaN</td>\n      <td>NaN</td>\n      <td>NaN</td>\n      <td>NaN</td>\n      <td>NaN</td>\n      <td>NaN</td>\n      <td>NaN</td>\n      <td>NaN</td>\n      <td>...</td>\n      <td>NaN</td>\n      <td>NaN</td>\n      <td>NaN</td>\n      <td>NaN</td>\n      <td>NaN</td>\n      <td>NaN</td>\n      <td>NaN</td>\n      <td>NaN</td>\n      <td>NaN</td>\n      <td>NaN</td>\n    </tr>\n    <tr>\n      <th>5</th>\n      <td>0.363636</td>\n      <td>NaN</td>\n      <td>NaN</td>\n      <td>NaN</td>\n      <td>NaN</td>\n      <td>NaN</td>\n      <td>NaN</td>\n      <td>NaN</td>\n      <td>NaN</td>\n      <td>NaN</td>\n      <td>...</td>\n      <td>NaN</td>\n      <td>NaN</td>\n      <td>NaN</td>\n      <td>NaN</td>\n      <td>NaN</td>\n      <td>NaN</td>\n      <td>NaN</td>\n      <td>NaN</td>\n      <td>NaN</td>\n      <td>NaN</td>\n    </tr>\n  </tbody>\n</table>\n<p>5 rows × 9724 columns</p>\n</div>"
     },
     "metadata": {},
     "execution_count": 7
    }
   ],
   "source": [
    "final = pd.pivot_table(Rating_avg,values='adg_rating',index='userId',columns='movieId')\n",
    "final.head()"
   ]
  },
  {
   "cell_type": "code",
   "execution_count": 8,
   "metadata": {},
   "outputs": [],
   "source": [
    "# Replacing NaN by Movie Average\n",
    "final_movie = final.fillna(final.mean(axis=0))\n",
    "\n",
    "# Replacing NaN by user Average\n",
    "final_user = final.apply(lambda row: row.fillna(row.mean()), axis=1)"
   ]
  },
  {
   "cell_type": "code",
   "execution_count": 9,
   "metadata": {},
   "outputs": [
    {
     "output_type": "execute_result",
     "data": {
      "text/plain": "movieId    1         2         3         4         5         6         7       \\\nuserId                                                                          \n1       -0.366379 -0.053158 -0.366379 -1.096045 -0.522626 -0.366379 -0.400728   \n2        0.312167 -0.053158 -0.234798 -1.096045 -0.522626  0.378461 -0.400728   \n3        0.312167 -0.053158 -0.234798 -1.096045 -0.522626  0.378461 -0.400728   \n4        0.312167 -0.053158 -0.234798 -1.096045 -0.522626  0.378461 -0.400728   \n5        0.363636 -0.053158 -0.234798 -1.096045 -0.522626  0.378461 -0.400728   \n\nmovieId    8         9         10      ...    193565    193567    193571  \\\nuserId                                 ...                                 \n1       -0.625024 -0.455446 -0.056326  ... -0.205224 -0.705224  0.294776   \n2       -0.625024 -0.455446 -0.056326  ... -0.205224 -0.705224  0.294776   \n3       -0.625024 -0.455446 -0.056326  ... -0.205224 -0.705224  0.294776   \n4       -0.625024 -0.455446 -0.056326  ... -0.205224 -0.705224  0.294776   \n5       -0.625024 -0.455446 -0.056326  ... -0.205224 -0.705224  0.294776   \n\nmovieId    193573    193579    193581    193583    193585    193587    193609  \nuserId                                                                         \n1        0.294776 -0.205224  0.294776 -0.205224 -0.205224 -0.205224  0.372024  \n2        0.294776 -0.205224  0.294776 -0.205224 -0.205224 -0.205224  0.372024  \n3        0.294776 -0.205224  0.294776 -0.205224 -0.205224 -0.205224  0.372024  \n4        0.294776 -0.205224  0.294776 -0.205224 -0.205224 -0.205224  0.372024  \n5        0.294776 -0.205224  0.294776 -0.205224 -0.205224 -0.205224  0.372024  \n\n[5 rows x 9724 columns]",
      "text/html": "<div>\n<style scoped>\n    .dataframe tbody tr th:only-of-type {\n        vertical-align: middle;\n    }\n\n    .dataframe tbody tr th {\n        vertical-align: top;\n    }\n\n    .dataframe thead th {\n        text-align: right;\n    }\n</style>\n<table border=\"1\" class=\"dataframe\">\n  <thead>\n    <tr style=\"text-align: right;\">\n      <th>movieId</th>\n      <th>1</th>\n      <th>2</th>\n      <th>3</th>\n      <th>4</th>\n      <th>5</th>\n      <th>6</th>\n      <th>7</th>\n      <th>8</th>\n      <th>9</th>\n      <th>10</th>\n      <th>...</th>\n      <th>193565</th>\n      <th>193567</th>\n      <th>193571</th>\n      <th>193573</th>\n      <th>193579</th>\n      <th>193581</th>\n      <th>193583</th>\n      <th>193585</th>\n      <th>193587</th>\n      <th>193609</th>\n    </tr>\n    <tr>\n      <th>userId</th>\n      <th></th>\n      <th></th>\n      <th></th>\n      <th></th>\n      <th></th>\n      <th></th>\n      <th></th>\n      <th></th>\n      <th></th>\n      <th></th>\n      <th></th>\n      <th></th>\n      <th></th>\n      <th></th>\n      <th></th>\n      <th></th>\n      <th></th>\n      <th></th>\n      <th></th>\n      <th></th>\n      <th></th>\n    </tr>\n  </thead>\n  <tbody>\n    <tr>\n      <th>1</th>\n      <td>-0.366379</td>\n      <td>-0.053158</td>\n      <td>-0.366379</td>\n      <td>-1.096045</td>\n      <td>-0.522626</td>\n      <td>-0.366379</td>\n      <td>-0.400728</td>\n      <td>-0.625024</td>\n      <td>-0.455446</td>\n      <td>-0.056326</td>\n      <td>...</td>\n      <td>-0.205224</td>\n      <td>-0.705224</td>\n      <td>0.294776</td>\n      <td>0.294776</td>\n      <td>-0.205224</td>\n      <td>0.294776</td>\n      <td>-0.205224</td>\n      <td>-0.205224</td>\n      <td>-0.205224</td>\n      <td>0.372024</td>\n    </tr>\n    <tr>\n      <th>2</th>\n      <td>0.312167</td>\n      <td>-0.053158</td>\n      <td>-0.234798</td>\n      <td>-1.096045</td>\n      <td>-0.522626</td>\n      <td>0.378461</td>\n      <td>-0.400728</td>\n      <td>-0.625024</td>\n      <td>-0.455446</td>\n      <td>-0.056326</td>\n      <td>...</td>\n      <td>-0.205224</td>\n      <td>-0.705224</td>\n      <td>0.294776</td>\n      <td>0.294776</td>\n      <td>-0.205224</td>\n      <td>0.294776</td>\n      <td>-0.205224</td>\n      <td>-0.205224</td>\n      <td>-0.205224</td>\n      <td>0.372024</td>\n    </tr>\n    <tr>\n      <th>3</th>\n      <td>0.312167</td>\n      <td>-0.053158</td>\n      <td>-0.234798</td>\n      <td>-1.096045</td>\n      <td>-0.522626</td>\n      <td>0.378461</td>\n      <td>-0.400728</td>\n      <td>-0.625024</td>\n      <td>-0.455446</td>\n      <td>-0.056326</td>\n      <td>...</td>\n      <td>-0.205224</td>\n      <td>-0.705224</td>\n      <td>0.294776</td>\n      <td>0.294776</td>\n      <td>-0.205224</td>\n      <td>0.294776</td>\n      <td>-0.205224</td>\n      <td>-0.205224</td>\n      <td>-0.205224</td>\n      <td>0.372024</td>\n    </tr>\n    <tr>\n      <th>4</th>\n      <td>0.312167</td>\n      <td>-0.053158</td>\n      <td>-0.234798</td>\n      <td>-1.096045</td>\n      <td>-0.522626</td>\n      <td>0.378461</td>\n      <td>-0.400728</td>\n      <td>-0.625024</td>\n      <td>-0.455446</td>\n      <td>-0.056326</td>\n      <td>...</td>\n      <td>-0.205224</td>\n      <td>-0.705224</td>\n      <td>0.294776</td>\n      <td>0.294776</td>\n      <td>-0.205224</td>\n      <td>0.294776</td>\n      <td>-0.205224</td>\n      <td>-0.205224</td>\n      <td>-0.205224</td>\n      <td>0.372024</td>\n    </tr>\n    <tr>\n      <th>5</th>\n      <td>0.363636</td>\n      <td>-0.053158</td>\n      <td>-0.234798</td>\n      <td>-1.096045</td>\n      <td>-0.522626</td>\n      <td>0.378461</td>\n      <td>-0.400728</td>\n      <td>-0.625024</td>\n      <td>-0.455446</td>\n      <td>-0.056326</td>\n      <td>...</td>\n      <td>-0.205224</td>\n      <td>-0.705224</td>\n      <td>0.294776</td>\n      <td>0.294776</td>\n      <td>-0.205224</td>\n      <td>0.294776</td>\n      <td>-0.205224</td>\n      <td>-0.205224</td>\n      <td>-0.205224</td>\n      <td>0.372024</td>\n    </tr>\n  </tbody>\n</table>\n<p>5 rows × 9724 columns</p>\n</div>"
     },
     "metadata": {},
     "execution_count": 9
    }
   ],
   "source": [
    "final_movie.head()"
   ]
  },
  {
   "cell_type": "code",
   "execution_count": 10,
   "metadata": {},
   "outputs": [
    {
     "output_type": "execute_result",
     "data": {
      "text/plain": "movieId        1             2             3             4             5       \\\nuserId                                                                          \n1       -3.663793e-01  1.837611e-16 -3.663793e-01  1.837611e-16  1.837611e-16   \n2        2.143879e-16  2.143879e-16  2.143879e-16  2.143879e-16  2.143879e-16   \n3        3.643809e-16  3.643809e-16  3.643809e-16  3.643809e-16  3.643809e-16   \n4        1.973730e-16  1.973730e-16  1.973730e-16  1.973730e-16  1.973730e-16   \n5        3.636364e-01  1.009294e-16  1.009294e-16  1.009294e-16  1.009294e-16   \n\nmovieId        6             7             8             9             10      \\\nuserId                                                                          \n1       -3.663793e-01  1.837611e-16  1.837611e-16  1.837611e-16  1.837611e-16   \n2        2.143879e-16  2.143879e-16  2.143879e-16  2.143879e-16  2.143879e-16   \n3        3.643809e-16  3.643809e-16  3.643809e-16  3.643809e-16  3.643809e-16   \n4        1.973730e-16  1.973730e-16  1.973730e-16  1.973730e-16  1.973730e-16   \n5        1.009294e-16  1.009294e-16  1.009294e-16  1.009294e-16  1.009294e-16   \n\nmovieId  ...        193565        193567        193571        193573  \\\nuserId   ...                                                           \n1        ...  1.837611e-16  1.837611e-16  1.837611e-16  1.837611e-16   \n2        ...  2.143879e-16  2.143879e-16  2.143879e-16  2.143879e-16   \n3        ...  3.643809e-16  3.643809e-16  3.643809e-16  3.643809e-16   \n4        ...  1.973730e-16  1.973730e-16  1.973730e-16  1.973730e-16   \n5        ...  1.009294e-16  1.009294e-16  1.009294e-16  1.009294e-16   \n\nmovieId        193579        193581        193583        193585        193587  \\\nuserId                                                                          \n1        1.837611e-16  1.837611e-16  1.837611e-16  1.837611e-16  1.837611e-16   \n2        2.143879e-16  2.143879e-16  2.143879e-16  2.143879e-16  2.143879e-16   \n3        3.643809e-16  3.643809e-16  3.643809e-16  3.643809e-16  3.643809e-16   \n4        1.973730e-16  1.973730e-16  1.973730e-16  1.973730e-16  1.973730e-16   \n5        1.009294e-16  1.009294e-16  1.009294e-16  1.009294e-16  1.009294e-16   \n\nmovieId        193609  \nuserId                 \n1        1.837611e-16  \n2        2.143879e-16  \n3        3.643809e-16  \n4        1.973730e-16  \n5        1.009294e-16  \n\n[5 rows x 9724 columns]",
      "text/html": "<div>\n<style scoped>\n    .dataframe tbody tr th:only-of-type {\n        vertical-align: middle;\n    }\n\n    .dataframe tbody tr th {\n        vertical-align: top;\n    }\n\n    .dataframe thead th {\n        text-align: right;\n    }\n</style>\n<table border=\"1\" class=\"dataframe\">\n  <thead>\n    <tr style=\"text-align: right;\">\n      <th>movieId</th>\n      <th>1</th>\n      <th>2</th>\n      <th>3</th>\n      <th>4</th>\n      <th>5</th>\n      <th>6</th>\n      <th>7</th>\n      <th>8</th>\n      <th>9</th>\n      <th>10</th>\n      <th>...</th>\n      <th>193565</th>\n      <th>193567</th>\n      <th>193571</th>\n      <th>193573</th>\n      <th>193579</th>\n      <th>193581</th>\n      <th>193583</th>\n      <th>193585</th>\n      <th>193587</th>\n      <th>193609</th>\n    </tr>\n    <tr>\n      <th>userId</th>\n      <th></th>\n      <th></th>\n      <th></th>\n      <th></th>\n      <th></th>\n      <th></th>\n      <th></th>\n      <th></th>\n      <th></th>\n      <th></th>\n      <th></th>\n      <th></th>\n      <th></th>\n      <th></th>\n      <th></th>\n      <th></th>\n      <th></th>\n      <th></th>\n      <th></th>\n      <th></th>\n      <th></th>\n    </tr>\n  </thead>\n  <tbody>\n    <tr>\n      <th>1</th>\n      <td>-3.663793e-01</td>\n      <td>1.837611e-16</td>\n      <td>-3.663793e-01</td>\n      <td>1.837611e-16</td>\n      <td>1.837611e-16</td>\n      <td>-3.663793e-01</td>\n      <td>1.837611e-16</td>\n      <td>1.837611e-16</td>\n      <td>1.837611e-16</td>\n      <td>1.837611e-16</td>\n      <td>...</td>\n      <td>1.837611e-16</td>\n      <td>1.837611e-16</td>\n      <td>1.837611e-16</td>\n      <td>1.837611e-16</td>\n      <td>1.837611e-16</td>\n      <td>1.837611e-16</td>\n      <td>1.837611e-16</td>\n      <td>1.837611e-16</td>\n      <td>1.837611e-16</td>\n      <td>1.837611e-16</td>\n    </tr>\n    <tr>\n      <th>2</th>\n      <td>2.143879e-16</td>\n      <td>2.143879e-16</td>\n      <td>2.143879e-16</td>\n      <td>2.143879e-16</td>\n      <td>2.143879e-16</td>\n      <td>2.143879e-16</td>\n      <td>2.143879e-16</td>\n      <td>2.143879e-16</td>\n      <td>2.143879e-16</td>\n      <td>2.143879e-16</td>\n      <td>...</td>\n      <td>2.143879e-16</td>\n      <td>2.143879e-16</td>\n      <td>2.143879e-16</td>\n      <td>2.143879e-16</td>\n      <td>2.143879e-16</td>\n      <td>2.143879e-16</td>\n      <td>2.143879e-16</td>\n      <td>2.143879e-16</td>\n      <td>2.143879e-16</td>\n      <td>2.143879e-16</td>\n    </tr>\n    <tr>\n      <th>3</th>\n      <td>3.643809e-16</td>\n      <td>3.643809e-16</td>\n      <td>3.643809e-16</td>\n      <td>3.643809e-16</td>\n      <td>3.643809e-16</td>\n      <td>3.643809e-16</td>\n      <td>3.643809e-16</td>\n      <td>3.643809e-16</td>\n      <td>3.643809e-16</td>\n      <td>3.643809e-16</td>\n      <td>...</td>\n      <td>3.643809e-16</td>\n      <td>3.643809e-16</td>\n      <td>3.643809e-16</td>\n      <td>3.643809e-16</td>\n      <td>3.643809e-16</td>\n      <td>3.643809e-16</td>\n      <td>3.643809e-16</td>\n      <td>3.643809e-16</td>\n      <td>3.643809e-16</td>\n      <td>3.643809e-16</td>\n    </tr>\n    <tr>\n      <th>4</th>\n      <td>1.973730e-16</td>\n      <td>1.973730e-16</td>\n      <td>1.973730e-16</td>\n      <td>1.973730e-16</td>\n      <td>1.973730e-16</td>\n      <td>1.973730e-16</td>\n      <td>1.973730e-16</td>\n      <td>1.973730e-16</td>\n      <td>1.973730e-16</td>\n      <td>1.973730e-16</td>\n      <td>...</td>\n      <td>1.973730e-16</td>\n      <td>1.973730e-16</td>\n      <td>1.973730e-16</td>\n      <td>1.973730e-16</td>\n      <td>1.973730e-16</td>\n      <td>1.973730e-16</td>\n      <td>1.973730e-16</td>\n      <td>1.973730e-16</td>\n      <td>1.973730e-16</td>\n      <td>1.973730e-16</td>\n    </tr>\n    <tr>\n      <th>5</th>\n      <td>3.636364e-01</td>\n      <td>1.009294e-16</td>\n      <td>1.009294e-16</td>\n      <td>1.009294e-16</td>\n      <td>1.009294e-16</td>\n      <td>1.009294e-16</td>\n      <td>1.009294e-16</td>\n      <td>1.009294e-16</td>\n      <td>1.009294e-16</td>\n      <td>1.009294e-16</td>\n      <td>...</td>\n      <td>1.009294e-16</td>\n      <td>1.009294e-16</td>\n      <td>1.009294e-16</td>\n      <td>1.009294e-16</td>\n      <td>1.009294e-16</td>\n      <td>1.009294e-16</td>\n      <td>1.009294e-16</td>\n      <td>1.009294e-16</td>\n      <td>1.009294e-16</td>\n      <td>1.009294e-16</td>\n    </tr>\n  </tbody>\n</table>\n<p>5 rows × 9724 columns</p>\n</div>"
     },
     "metadata": {},
     "execution_count": 10
    }
   ],
   "source": [
    "final_user.head()"
   ]
  },
  {
   "cell_type": "code",
   "execution_count": 11,
   "metadata": {},
   "outputs": [
    {
     "output_type": "execute_result",
     "data": {
      "text/plain": "userId       1             2             3         4         5         6    \\\nuserId                                                                       \n1       0.000000  1.264516e-03  5.525772e-04  0.048419  0.021847 -0.045497   \n2       0.001265  0.000000e+00  1.290714e-29 -0.017164  0.021796 -0.021051   \n3       0.000553  1.290714e-29  0.000000e+00 -0.011260 -0.031539  0.004800   \n4       0.048419 -1.716402e-02 -1.125978e-02  0.000000 -0.029620  0.013956   \n5       0.021847  2.179571e-02 -3.153892e-02 -0.029620  0.000000  0.009111   \n\nuserId           7         8             9             10   ...       601  \\\nuserId                                                      ...             \n1      -6.199672e-03  0.047013  1.950985e-02 -8.754088e-03  ...  0.018127   \n2      -1.111357e-02 -0.048085  1.371140e-29  3.011629e-03  ... -0.050551   \n3       8.818877e-30 -0.032471  8.338880e-30  1.764256e-30  ... -0.004904   \n4       5.809139e-02  0.002065 -5.873603e-03  5.159032e-02  ... -0.037687   \n5       1.011715e-02 -0.012284  4.245419e-30 -3.316512e-02  ...  0.015964   \n\nuserId       602       603           604           605       606       607  \\\nuserId                                                                       \n1      -0.017172 -0.015221 -3.705875e-02 -2.912138e-02  0.012016  0.055261   \n2      -0.031581 -0.001688 -3.923776e-30 -1.537935e-29  0.006226 -0.020504   \n3      -0.016117  0.017749 -2.193111e-30 -1.430628e-03 -0.037289 -0.007789   \n4       0.063122  0.027640 -1.378212e-02  4.003747e-02  0.020590  0.014628   \n5       0.012427  0.027076  1.246135e-02 -3.627206e-02  0.026319  0.031896   \n\nuserId       608           609       610  \nuserId                                    \n1       0.075224 -2.571255e-02  0.010932  \n2      -0.006001 -6.009100e-02  0.024999  \n3      -0.013001  9.842620e-30  0.019550  \n4      -0.037569 -1.788358e-02 -0.000995  \n5      -0.001751  9.382892e-02 -0.000278  \n\n[5 rows x 610 columns]",
      "text/html": "<div>\n<style scoped>\n    .dataframe tbody tr th:only-of-type {\n        vertical-align: middle;\n    }\n\n    .dataframe tbody tr th {\n        vertical-align: top;\n    }\n\n    .dataframe thead th {\n        text-align: right;\n    }\n</style>\n<table border=\"1\" class=\"dataframe\">\n  <thead>\n    <tr style=\"text-align: right;\">\n      <th>userId</th>\n      <th>1</th>\n      <th>2</th>\n      <th>3</th>\n      <th>4</th>\n      <th>5</th>\n      <th>6</th>\n      <th>7</th>\n      <th>8</th>\n      <th>9</th>\n      <th>10</th>\n      <th>...</th>\n      <th>601</th>\n      <th>602</th>\n      <th>603</th>\n      <th>604</th>\n      <th>605</th>\n      <th>606</th>\n      <th>607</th>\n      <th>608</th>\n      <th>609</th>\n      <th>610</th>\n    </tr>\n    <tr>\n      <th>userId</th>\n      <th></th>\n      <th></th>\n      <th></th>\n      <th></th>\n      <th></th>\n      <th></th>\n      <th></th>\n      <th></th>\n      <th></th>\n      <th></th>\n      <th></th>\n      <th></th>\n      <th></th>\n      <th></th>\n      <th></th>\n      <th></th>\n      <th></th>\n      <th></th>\n      <th></th>\n      <th></th>\n      <th></th>\n    </tr>\n  </thead>\n  <tbody>\n    <tr>\n      <th>1</th>\n      <td>0.000000</td>\n      <td>1.264516e-03</td>\n      <td>5.525772e-04</td>\n      <td>0.048419</td>\n      <td>0.021847</td>\n      <td>-0.045497</td>\n      <td>-6.199672e-03</td>\n      <td>0.047013</td>\n      <td>1.950985e-02</td>\n      <td>-8.754088e-03</td>\n      <td>...</td>\n      <td>0.018127</td>\n      <td>-0.017172</td>\n      <td>-0.015221</td>\n      <td>-3.705875e-02</td>\n      <td>-2.912138e-02</td>\n      <td>0.012016</td>\n      <td>0.055261</td>\n      <td>0.075224</td>\n      <td>-2.571255e-02</td>\n      <td>0.010932</td>\n    </tr>\n    <tr>\n      <th>2</th>\n      <td>0.001265</td>\n      <td>0.000000e+00</td>\n      <td>1.290714e-29</td>\n      <td>-0.017164</td>\n      <td>0.021796</td>\n      <td>-0.021051</td>\n      <td>-1.111357e-02</td>\n      <td>-0.048085</td>\n      <td>1.371140e-29</td>\n      <td>3.011629e-03</td>\n      <td>...</td>\n      <td>-0.050551</td>\n      <td>-0.031581</td>\n      <td>-0.001688</td>\n      <td>-3.923776e-30</td>\n      <td>-1.537935e-29</td>\n      <td>0.006226</td>\n      <td>-0.020504</td>\n      <td>-0.006001</td>\n      <td>-6.009100e-02</td>\n      <td>0.024999</td>\n    </tr>\n    <tr>\n      <th>3</th>\n      <td>0.000553</td>\n      <td>1.290714e-29</td>\n      <td>0.000000e+00</td>\n      <td>-0.011260</td>\n      <td>-0.031539</td>\n      <td>0.004800</td>\n      <td>8.818877e-30</td>\n      <td>-0.032471</td>\n      <td>8.338880e-30</td>\n      <td>1.764256e-30</td>\n      <td>...</td>\n      <td>-0.004904</td>\n      <td>-0.016117</td>\n      <td>0.017749</td>\n      <td>-2.193111e-30</td>\n      <td>-1.430628e-03</td>\n      <td>-0.037289</td>\n      <td>-0.007789</td>\n      <td>-0.013001</td>\n      <td>9.842620e-30</td>\n      <td>0.019550</td>\n    </tr>\n    <tr>\n      <th>4</th>\n      <td>0.048419</td>\n      <td>-1.716402e-02</td>\n      <td>-1.125978e-02</td>\n      <td>0.000000</td>\n      <td>-0.029620</td>\n      <td>0.013956</td>\n      <td>5.809139e-02</td>\n      <td>0.002065</td>\n      <td>-5.873603e-03</td>\n      <td>5.159032e-02</td>\n      <td>...</td>\n      <td>-0.037687</td>\n      <td>0.063122</td>\n      <td>0.027640</td>\n      <td>-1.378212e-02</td>\n      <td>4.003747e-02</td>\n      <td>0.020590</td>\n      <td>0.014628</td>\n      <td>-0.037569</td>\n      <td>-1.788358e-02</td>\n      <td>-0.000995</td>\n    </tr>\n    <tr>\n      <th>5</th>\n      <td>0.021847</td>\n      <td>2.179571e-02</td>\n      <td>-3.153892e-02</td>\n      <td>-0.029620</td>\n      <td>0.000000</td>\n      <td>0.009111</td>\n      <td>1.011715e-02</td>\n      <td>-0.012284</td>\n      <td>4.245419e-30</td>\n      <td>-3.316512e-02</td>\n      <td>...</td>\n      <td>0.015964</td>\n      <td>0.012427</td>\n      <td>0.027076</td>\n      <td>1.246135e-02</td>\n      <td>-3.627206e-02</td>\n      <td>0.026319</td>\n      <td>0.031896</td>\n      <td>-0.001751</td>\n      <td>9.382892e-02</td>\n      <td>-0.000278</td>\n    </tr>\n  </tbody>\n</table>\n<p>5 rows × 610 columns</p>\n</div>"
     },
     "metadata": {},
     "execution_count": 11
    }
   ],
   "source": [
    "# user similarity on replacing NAN by user avg\n",
    "b = cosine_similarity(final_user)\n",
    "np.fill_diagonal(b, 0 )\n",
    "similarity_with_user = pd.DataFrame(b,index=final_user.index)\n",
    "similarity_with_user.columns=final_user.index\n",
    "similarity_with_user.head()"
   ]
  },
  {
   "cell_type": "code",
   "execution_count": 12,
   "metadata": {},
   "outputs": [
    {
     "output_type": "execute_result",
     "data": {
      "text/plain": "userId       1         2         3         4         5         6         7    \\\nuserId                                                                         \n1       0.000000  0.988283  0.978406  0.964220  0.986819  0.970456  0.971643   \n2       0.988283  0.000000  0.987141  0.971166  0.995793  0.979893  0.981852   \n3       0.978406  0.987141  0.000000  0.961237  0.985179  0.970773  0.971932   \n4       0.964220  0.971166  0.961237  0.000000  0.968638  0.955187  0.958876   \n5       0.986819  0.995793  0.985179  0.968638  0.000000  0.978368  0.980011   \n\nuserId       8         9         10   ...       601       602       603  \\\nuserId                                ...                                 \n1       0.987468  0.986382  0.973397  ...  0.987335  0.978916  0.917922   \n2       0.995168  0.995108  0.981285  ...  0.996067  0.988455  0.929086   \n3       0.985140  0.985263  0.971464  ...  0.986072  0.978562  0.921433   \n4       0.970090  0.969158  0.959626  ...  0.970625  0.964815  0.903118   \n5       0.992905  0.993494  0.979161  ...  0.994448  0.986028  0.928126   \n\nuserId       604       605       606       607       608       609       610  \nuserId                                                                        \n1       0.983978  0.978638  0.959693  0.976120  0.932806  0.989380  0.952774  \n2       0.993014  0.988206  0.968868  0.983619  0.940224  0.997957  0.963114  \n3       0.983193  0.978363  0.957067  0.974114  0.930653  0.988086  0.954265  \n4       0.967106  0.963962  0.942701  0.958891  0.911591  0.972100  0.935866  \n5       0.991066  0.986090  0.967230  0.982366  0.938353  0.996584  0.960854  \n\n[5 rows x 610 columns]",
      "text/html": "<div>\n<style scoped>\n    .dataframe tbody tr th:only-of-type {\n        vertical-align: middle;\n    }\n\n    .dataframe tbody tr th {\n        vertical-align: top;\n    }\n\n    .dataframe thead th {\n        text-align: right;\n    }\n</style>\n<table border=\"1\" class=\"dataframe\">\n  <thead>\n    <tr style=\"text-align: right;\">\n      <th>userId</th>\n      <th>1</th>\n      <th>2</th>\n      <th>3</th>\n      <th>4</th>\n      <th>5</th>\n      <th>6</th>\n      <th>7</th>\n      <th>8</th>\n      <th>9</th>\n      <th>10</th>\n      <th>...</th>\n      <th>601</th>\n      <th>602</th>\n      <th>603</th>\n      <th>604</th>\n      <th>605</th>\n      <th>606</th>\n      <th>607</th>\n      <th>608</th>\n      <th>609</th>\n      <th>610</th>\n    </tr>\n    <tr>\n      <th>userId</th>\n      <th></th>\n      <th></th>\n      <th></th>\n      <th></th>\n      <th></th>\n      <th></th>\n      <th></th>\n      <th></th>\n      <th></th>\n      <th></th>\n      <th></th>\n      <th></th>\n      <th></th>\n      <th></th>\n      <th></th>\n      <th></th>\n      <th></th>\n      <th></th>\n      <th></th>\n      <th></th>\n      <th></th>\n    </tr>\n  </thead>\n  <tbody>\n    <tr>\n      <th>1</th>\n      <td>0.000000</td>\n      <td>0.988283</td>\n      <td>0.978406</td>\n      <td>0.964220</td>\n      <td>0.986819</td>\n      <td>0.970456</td>\n      <td>0.971643</td>\n      <td>0.987468</td>\n      <td>0.986382</td>\n      <td>0.973397</td>\n      <td>...</td>\n      <td>0.987335</td>\n      <td>0.978916</td>\n      <td>0.917922</td>\n      <td>0.983978</td>\n      <td>0.978638</td>\n      <td>0.959693</td>\n      <td>0.976120</td>\n      <td>0.932806</td>\n      <td>0.989380</td>\n      <td>0.952774</td>\n    </tr>\n    <tr>\n      <th>2</th>\n      <td>0.988283</td>\n      <td>0.000000</td>\n      <td>0.987141</td>\n      <td>0.971166</td>\n      <td>0.995793</td>\n      <td>0.979893</td>\n      <td>0.981852</td>\n      <td>0.995168</td>\n      <td>0.995108</td>\n      <td>0.981285</td>\n      <td>...</td>\n      <td>0.996067</td>\n      <td>0.988455</td>\n      <td>0.929086</td>\n      <td>0.993014</td>\n      <td>0.988206</td>\n      <td>0.968868</td>\n      <td>0.983619</td>\n      <td>0.940224</td>\n      <td>0.997957</td>\n      <td>0.963114</td>\n    </tr>\n    <tr>\n      <th>3</th>\n      <td>0.978406</td>\n      <td>0.987141</td>\n      <td>0.000000</td>\n      <td>0.961237</td>\n      <td>0.985179</td>\n      <td>0.970773</td>\n      <td>0.971932</td>\n      <td>0.985140</td>\n      <td>0.985263</td>\n      <td>0.971464</td>\n      <td>...</td>\n      <td>0.986072</td>\n      <td>0.978562</td>\n      <td>0.921433</td>\n      <td>0.983193</td>\n      <td>0.978363</td>\n      <td>0.957067</td>\n      <td>0.974114</td>\n      <td>0.930653</td>\n      <td>0.988086</td>\n      <td>0.954265</td>\n    </tr>\n    <tr>\n      <th>4</th>\n      <td>0.964220</td>\n      <td>0.971166</td>\n      <td>0.961237</td>\n      <td>0.000000</td>\n      <td>0.968638</td>\n      <td>0.955187</td>\n      <td>0.958876</td>\n      <td>0.970090</td>\n      <td>0.969158</td>\n      <td>0.959626</td>\n      <td>...</td>\n      <td>0.970625</td>\n      <td>0.964815</td>\n      <td>0.903118</td>\n      <td>0.967106</td>\n      <td>0.963962</td>\n      <td>0.942701</td>\n      <td>0.958891</td>\n      <td>0.911591</td>\n      <td>0.972100</td>\n      <td>0.935866</td>\n    </tr>\n    <tr>\n      <th>5</th>\n      <td>0.986819</td>\n      <td>0.995793</td>\n      <td>0.985179</td>\n      <td>0.968638</td>\n      <td>0.000000</td>\n      <td>0.978368</td>\n      <td>0.980011</td>\n      <td>0.992905</td>\n      <td>0.993494</td>\n      <td>0.979161</td>\n      <td>...</td>\n      <td>0.994448</td>\n      <td>0.986028</td>\n      <td>0.928126</td>\n      <td>0.991066</td>\n      <td>0.986090</td>\n      <td>0.967230</td>\n      <td>0.982366</td>\n      <td>0.938353</td>\n      <td>0.996584</td>\n      <td>0.960854</td>\n    </tr>\n  </tbody>\n</table>\n<p>5 rows × 610 columns</p>\n</div>"
     },
     "metadata": {},
     "execution_count": 12
    }
   ],
   "source": [
    "# user similarity on replacing NAN by item(movie) avg\n",
    "cosine = cosine_similarity(final_movie)\n",
    "np.fill_diagonal(cosine, 0 )\n",
    "similarity_with_movie = pd.DataFrame(cosine,index=final_movie.index)\n",
    "similarity_with_movie.columns=final_user.index\n",
    "similarity_with_movie.head()"
   ]
  },
  {
   "cell_type": "code",
   "execution_count": 13,
   "metadata": {},
   "outputs": [],
   "source": [
    "def find_n_neighbours(df,n):\n",
    "    order = np.argsort(df.values, axis=1)[:, :n]\n",
    "    df = df.apply(lambda x: pd.Series(x.sort_values(ascending=False)\n",
    "           .iloc[:n].index, \n",
    "          index=['top{}'.format(i) for i in range(1, n+1)]), axis=1)\n",
    "    return df"
   ]
  },
  {
   "cell_type": "code",
   "execution_count": 14,
   "metadata": {},
   "outputs": [
    {
     "output_type": "execute_result",
     "data": {
      "text/plain": "        top1  top2  top3  top4  top5  top6  top7  top8  top9  top10  ...  \\\nuserId                                                               ...   \n1        301   597   414   477    57   369   206   535   590    418  ...   \n2        189   246   378   209   227   326   393   332   196    528  ...   \n3        441   496   549   231   527   537   313   518   244    246  ...   \n4         75   137   590   391    43   128   462   250   290     85  ...   \n5        145    35   565   134    58   444   446   347   530    142  ...   \n\n        top21  top22  top23  top24  top25  top26  top27  top28  top29  top30  \nuserId                                                                        \n1         484    469     72    593     44    297    434    483    449    552  \n2         114    153    596    495    407    567     93    308    496    222  \n3         309    586    230    303     34    161     39     47    127    138  \n4         472    593    299     32    349    268    159    199    173    426  \n5          94    569    411    588    584    404    498    323    536    437  \n\n[5 rows x 30 columns]",
      "text/html": "<div>\n<style scoped>\n    .dataframe tbody tr th:only-of-type {\n        vertical-align: middle;\n    }\n\n    .dataframe tbody tr th {\n        vertical-align: top;\n    }\n\n    .dataframe thead th {\n        text-align: right;\n    }\n</style>\n<table border=\"1\" class=\"dataframe\">\n  <thead>\n    <tr style=\"text-align: right;\">\n      <th></th>\n      <th>top1</th>\n      <th>top2</th>\n      <th>top3</th>\n      <th>top4</th>\n      <th>top5</th>\n      <th>top6</th>\n      <th>top7</th>\n      <th>top8</th>\n      <th>top9</th>\n      <th>top10</th>\n      <th>...</th>\n      <th>top21</th>\n      <th>top22</th>\n      <th>top23</th>\n      <th>top24</th>\n      <th>top25</th>\n      <th>top26</th>\n      <th>top27</th>\n      <th>top28</th>\n      <th>top29</th>\n      <th>top30</th>\n    </tr>\n    <tr>\n      <th>userId</th>\n      <th></th>\n      <th></th>\n      <th></th>\n      <th></th>\n      <th></th>\n      <th></th>\n      <th></th>\n      <th></th>\n      <th></th>\n      <th></th>\n      <th></th>\n      <th></th>\n      <th></th>\n      <th></th>\n      <th></th>\n      <th></th>\n      <th></th>\n      <th></th>\n      <th></th>\n      <th></th>\n      <th></th>\n    </tr>\n  </thead>\n  <tbody>\n    <tr>\n      <th>1</th>\n      <td>301</td>\n      <td>597</td>\n      <td>414</td>\n      <td>477</td>\n      <td>57</td>\n      <td>369</td>\n      <td>206</td>\n      <td>535</td>\n      <td>590</td>\n      <td>418</td>\n      <td>...</td>\n      <td>484</td>\n      <td>469</td>\n      <td>72</td>\n      <td>593</td>\n      <td>44</td>\n      <td>297</td>\n      <td>434</td>\n      <td>483</td>\n      <td>449</td>\n      <td>552</td>\n    </tr>\n    <tr>\n      <th>2</th>\n      <td>189</td>\n      <td>246</td>\n      <td>378</td>\n      <td>209</td>\n      <td>227</td>\n      <td>326</td>\n      <td>393</td>\n      <td>332</td>\n      <td>196</td>\n      <td>528</td>\n      <td>...</td>\n      <td>114</td>\n      <td>153</td>\n      <td>596</td>\n      <td>495</td>\n      <td>407</td>\n      <td>567</td>\n      <td>93</td>\n      <td>308</td>\n      <td>496</td>\n      <td>222</td>\n    </tr>\n    <tr>\n      <th>3</th>\n      <td>441</td>\n      <td>496</td>\n      <td>549</td>\n      <td>231</td>\n      <td>527</td>\n      <td>537</td>\n      <td>313</td>\n      <td>518</td>\n      <td>244</td>\n      <td>246</td>\n      <td>...</td>\n      <td>309</td>\n      <td>586</td>\n      <td>230</td>\n      <td>303</td>\n      <td>34</td>\n      <td>161</td>\n      <td>39</td>\n      <td>47</td>\n      <td>127</td>\n      <td>138</td>\n    </tr>\n    <tr>\n      <th>4</th>\n      <td>75</td>\n      <td>137</td>\n      <td>590</td>\n      <td>391</td>\n      <td>43</td>\n      <td>128</td>\n      <td>462</td>\n      <td>250</td>\n      <td>290</td>\n      <td>85</td>\n      <td>...</td>\n      <td>472</td>\n      <td>593</td>\n      <td>299</td>\n      <td>32</td>\n      <td>349</td>\n      <td>268</td>\n      <td>159</td>\n      <td>199</td>\n      <td>173</td>\n      <td>426</td>\n    </tr>\n    <tr>\n      <th>5</th>\n      <td>145</td>\n      <td>35</td>\n      <td>565</td>\n      <td>134</td>\n      <td>58</td>\n      <td>444</td>\n      <td>446</td>\n      <td>347</td>\n      <td>530</td>\n      <td>142</td>\n      <td>...</td>\n      <td>94</td>\n      <td>569</td>\n      <td>411</td>\n      <td>588</td>\n      <td>584</td>\n      <td>404</td>\n      <td>498</td>\n      <td>323</td>\n      <td>536</td>\n      <td>437</td>\n    </tr>\n  </tbody>\n</table>\n<p>5 rows × 30 columns</p>\n</div>"
     },
     "metadata": {},
     "execution_count": 14
    }
   ],
   "source": [
    "# top 30 neighbours for each user\n",
    "sim_user_30_u = find_n_neighbours(similarity_with_user,30)\n",
    "sim_user_30_u.head()"
   ]
  },
  {
   "cell_type": "code",
   "execution_count": 15,
   "metadata": {},
   "outputs": [
    {
     "output_type": "execute_result",
     "data": {
      "text/plain": "        top1  top2  top3  top4  top5  top6  top7  top8  top9  top10  ...  \\\nuserId                                                               ...   \n1         49    54    72    53   515   550   189   133    26    513  ...   \n2         49   189   515    53    25   145    54    26    87    194  ...   \n3        515    49    25    53   496    54   442    72    26     87  ...   \n4        581    54   189    49    25   515   300    53   472    251  ...   \n5        145    49   515    53   609    26   189   550    35     87  ...   \n\n        top21  top22  top23  top24  top25  top26  top27  top28  top29  top30  \nuserId                                                                        \n1         145     60    595    574    556     92    435    163    439    340  \n2          65    163    251    150    299    440    519    507    245    521  \n3          92    595    556     65    463    251    180    150    163    439  \n4          26    289    463    609    214    206    507    574    120    556  \n5         293    142     72     92    556    439    478    163    595    299  \n\n[5 rows x 30 columns]",
      "text/html": "<div>\n<style scoped>\n    .dataframe tbody tr th:only-of-type {\n        vertical-align: middle;\n    }\n\n    .dataframe tbody tr th {\n        vertical-align: top;\n    }\n\n    .dataframe thead th {\n        text-align: right;\n    }\n</style>\n<table border=\"1\" class=\"dataframe\">\n  <thead>\n    <tr style=\"text-align: right;\">\n      <th></th>\n      <th>top1</th>\n      <th>top2</th>\n      <th>top3</th>\n      <th>top4</th>\n      <th>top5</th>\n      <th>top6</th>\n      <th>top7</th>\n      <th>top8</th>\n      <th>top9</th>\n      <th>top10</th>\n      <th>...</th>\n      <th>top21</th>\n      <th>top22</th>\n      <th>top23</th>\n      <th>top24</th>\n      <th>top25</th>\n      <th>top26</th>\n      <th>top27</th>\n      <th>top28</th>\n      <th>top29</th>\n      <th>top30</th>\n    </tr>\n    <tr>\n      <th>userId</th>\n      <th></th>\n      <th></th>\n      <th></th>\n      <th></th>\n      <th></th>\n      <th></th>\n      <th></th>\n      <th></th>\n      <th></th>\n      <th></th>\n      <th></th>\n      <th></th>\n      <th></th>\n      <th></th>\n      <th></th>\n      <th></th>\n      <th></th>\n      <th></th>\n      <th></th>\n      <th></th>\n      <th></th>\n    </tr>\n  </thead>\n  <tbody>\n    <tr>\n      <th>1</th>\n      <td>49</td>\n      <td>54</td>\n      <td>72</td>\n      <td>53</td>\n      <td>515</td>\n      <td>550</td>\n      <td>189</td>\n      <td>133</td>\n      <td>26</td>\n      <td>513</td>\n      <td>...</td>\n      <td>145</td>\n      <td>60</td>\n      <td>595</td>\n      <td>574</td>\n      <td>556</td>\n      <td>92</td>\n      <td>435</td>\n      <td>163</td>\n      <td>439</td>\n      <td>340</td>\n    </tr>\n    <tr>\n      <th>2</th>\n      <td>49</td>\n      <td>189</td>\n      <td>515</td>\n      <td>53</td>\n      <td>25</td>\n      <td>145</td>\n      <td>54</td>\n      <td>26</td>\n      <td>87</td>\n      <td>194</td>\n      <td>...</td>\n      <td>65</td>\n      <td>163</td>\n      <td>251</td>\n      <td>150</td>\n      <td>299</td>\n      <td>440</td>\n      <td>519</td>\n      <td>507</td>\n      <td>245</td>\n      <td>521</td>\n    </tr>\n    <tr>\n      <th>3</th>\n      <td>515</td>\n      <td>49</td>\n      <td>25</td>\n      <td>53</td>\n      <td>496</td>\n      <td>54</td>\n      <td>442</td>\n      <td>72</td>\n      <td>26</td>\n      <td>87</td>\n      <td>...</td>\n      <td>92</td>\n      <td>595</td>\n      <td>556</td>\n      <td>65</td>\n      <td>463</td>\n      <td>251</td>\n      <td>180</td>\n      <td>150</td>\n      <td>163</td>\n      <td>439</td>\n    </tr>\n    <tr>\n      <th>4</th>\n      <td>581</td>\n      <td>54</td>\n      <td>189</td>\n      <td>49</td>\n      <td>25</td>\n      <td>515</td>\n      <td>300</td>\n      <td>53</td>\n      <td>472</td>\n      <td>251</td>\n      <td>...</td>\n      <td>26</td>\n      <td>289</td>\n      <td>463</td>\n      <td>609</td>\n      <td>214</td>\n      <td>206</td>\n      <td>507</td>\n      <td>574</td>\n      <td>120</td>\n      <td>556</td>\n    </tr>\n    <tr>\n      <th>5</th>\n      <td>145</td>\n      <td>49</td>\n      <td>515</td>\n      <td>53</td>\n      <td>609</td>\n      <td>26</td>\n      <td>189</td>\n      <td>550</td>\n      <td>35</td>\n      <td>87</td>\n      <td>...</td>\n      <td>293</td>\n      <td>142</td>\n      <td>72</td>\n      <td>92</td>\n      <td>556</td>\n      <td>439</td>\n      <td>478</td>\n      <td>163</td>\n      <td>595</td>\n      <td>299</td>\n    </tr>\n  </tbody>\n</table>\n<p>5 rows × 30 columns</p>\n</div>"
     },
     "metadata": {},
     "execution_count": 15
    }
   ],
   "source": [
    "# top 30 neighbours for each user\n",
    "sim_user_30_m = find_n_neighbours(similarity_with_movie,30)\n",
    "sim_user_30_m.head()"
   ]
  },
  {
   "cell_type": "code",
   "execution_count": 16,
   "metadata": {},
   "outputs": [],
   "source": [
    "def get_user_similar_movies( user1, user2 ):\n",
    "    common_movies = Rating_avg[Rating_avg.userId == user1].merge(\n",
    "    Rating_avg[Rating_avg.userId == user2],\n",
    "    on = \"movieId\",\n",
    "    how = \"inner\" )\n",
    "    return common_movies.merge( movies, on = 'movieId' )"
   ]
  },
  {
   "cell_type": "code",
   "execution_count": 17,
   "metadata": {},
   "outputs": [
    {
     "output_type": "execute_result",
     "data": {
      "text/plain": "Empty DataFrame\nColumns: [rating_x_x, rating_x_y, title]\nIndex: []",
      "text/html": "<div>\n<style scoped>\n    .dataframe tbody tr th:only-of-type {\n        vertical-align: middle;\n    }\n\n    .dataframe tbody tr th {\n        vertical-align: top;\n    }\n\n    .dataframe thead th {\n        text-align: right;\n    }\n</style>\n<table border=\"1\" class=\"dataframe\">\n  <thead>\n    <tr style=\"text-align: right;\">\n      <th></th>\n      <th>rating_x_x</th>\n      <th>rating_x_y</th>\n      <th>title</th>\n    </tr>\n  </thead>\n  <tbody>\n  </tbody>\n</table>\n</div>"
     },
     "metadata": {},
     "execution_count": 17
    }
   ],
   "source": [
    "a = get_user_similar_movies(370,86309)\n",
    "a = a.loc[ : , ['rating_x_x','rating_x_y','title']]\n",
    "a.head()"
   ]
  },
  {
   "cell_type": "code",
   "execution_count": 18,
   "metadata": {},
   "outputs": [],
   "source": [
    "def User_item_score(user,item):\n",
    "    a = sim_user_30_m[sim_user_30_m.index==user].values\n",
    "    b = a.squeeze().tolist()\n",
    "    c = final_movie.loc[:,item]\n",
    "    d = c[c.index.isin(b)]\n",
    "    f = d[d.notnull()]\n",
    "    avg_user = Mean.loc[Mean['userId'] == user,'rating'].values[0]\n",
    "    index = f.index.values.squeeze().tolist()\n",
    "    corr = similarity_with_movie.loc[user,index]\n",
    "    fin = pd.concat([f, corr], axis=1)\n",
    "    fin.columns = ['adg_score','correlation']\n",
    "    fin['score']=fin.apply(lambda x:x['adg_score'] * x['correlation'],axis=1)\n",
    "    nume = fin['score'].sum()\n",
    "    deno = fin['correlation'].sum()\n",
    "    final_score = avg_user + (nume/deno)\n",
    "    return final_score"
   ]
  },
  {
   "cell_type": "code",
   "execution_count": 19,
   "metadata": {},
   "outputs": [
    {
     "output_type": "stream",
     "name": "stdout",
     "text": "score (u,i) is 4.071266730936566\n"
    }
   ],
   "source": [
    "score = User_item_score(320,7371)\n",
    "print(\"score (u,i) is\",score)"
   ]
  },
  {
   "cell_type": "code",
   "execution_count": 115,
   "metadata": {},
   "outputs": [],
   "source": [
    "Rating_avg = Rating_avg.astype({\"movieId\": str})\n",
    "Movie_user = Rating_avg.groupby(by = 'userId')['movieId'].apply(lambda x:','.join(x))"
   ]
  },
  {
   "cell_type": "code",
   "execution_count": 116,
   "metadata": {},
   "outputs": [],
   "source": [
    "def User_item_score1(user):\n",
    "    Movie_seen_by_user = check.columns[check[check.index==user].notna().any()].tolist()\n",
    "    a = sim_user_30_m[sim_user_30_m.index==user].values\n",
    "    b = a.squeeze().tolist()\n",
    "    d = Movie_user[Movie_user.index.isin(b)]\n",
    "    l = ','.join(d.values)\n",
    "    Movie_seen_by_similar_users = l.split(',')\n",
    "    Movies_under_consideration = list(set(Movie_seen_by_similar_users)-set(list(map(str, Movie_seen_by_user))))\n",
    "    Movies_under_consideration = list(map(int, Movies_under_consideration))\n",
    "    score = []\n",
    "    for item in Movies_under_consideration:\n",
    "        c = final_movie.loc[:,item]\n",
    "        d = c[c.index.isin(b)]\n",
    "        f = d[d.notnull()]\n",
    "        avg_user = Mean.loc[Mean['userId'] == user,'rating'].values[0]\n",
    "        index = f.index.values.squeeze().tolist()\n",
    "        corr = similarity_with_movie.loc[user,index]\n",
    "        fin = pd.concat([f, corr], axis=1)\n",
    "        fin.columns = ['adg_score','correlation']\n",
    "        fin['score']=fin.apply(lambda x:x['adg_score'] * x['correlation'],axis=1)\n",
    "        nume = fin['score'].sum()\n",
    "        deno = fin['correlation'].sum()\n",
    "        final_score = avg_user + (nume/deno)\n",
    "        score.append(final_score)\n",
    "    data = pd.DataFrame({'movieId':Movies_under_consideration,'score':score})\n",
    "    top_5_recommendation = data.sort_values(by='score',ascending=False).head(5)\n",
    "    Movie_Name = top_5_recommendation.merge(movies, how='inner', on='movieId')\n",
    "    Movie_Names = Movie_Name.title.values.tolist()\n",
    "    return Movie_Names"
   ]
  },
  {
   "cell_type": "code",
   "execution_count": 117,
   "metadata": {},
   "outputs": [
    {
     "name": "stdout",
     "output_type": "stream",
     "text": [
      "Enter the user id to whom you want to recommend : 370\n",
      " \n",
      "The Recommendations for User Id : 370\n",
      "   \n",
      "Band of Brothers (2001)\n",
      "Godfather: Part II, The (1974)\n",
      "Wallace & Gromit: The Wrong Trousers (1993)\n",
      "Bicycle Thieves (a.k.a. The Bicycle Thief) (a.k.a. The Bicycle Thieves) (Ladri di biciclette) (1948)\n",
      "Spirited Away (Sen to Chihiro no kamikakushi) (2001)\n"
     ]
    }
   ],
   "source": [
    "user = int(input(\"Enter the user id to whom you want to recommend : \"))\n",
    "predicted_movies = User_item_score1(user)\n",
    "print(\" \")\n",
    "print(\"The Recommendations for User Id : 370\")\n",
    "print(\"   \")\n",
    "for i in predicted_movies:\n",
    "    print(i)"
   ]
  },
  {
   "cell_type": "code",
   "execution_count": null,
   "metadata": {},
   "outputs": [],
   "source": []
  }
 ],
 "metadata": {
  "kernelspec": {
   "display_name": "Python 3",
   "language": "python",
   "name": "python3"
  },
  "language_info": {
   "codemirror_mode": {
    "name": "ipython",
    "version": 3
   },
   "file_extension": ".py",
   "mimetype": "text/x-python",
   "name": "python",
   "nbconvert_exporter": "python",
   "pygments_lexer": "ipython3",
   "version": "3.7.6-final"
  }
 },
 "nbformat": 4,
 "nbformat_minor": 2
}